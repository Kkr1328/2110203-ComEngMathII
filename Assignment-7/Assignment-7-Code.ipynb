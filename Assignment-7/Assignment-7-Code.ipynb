{
  "nbformat": 4,
  "nbformat_minor": 0,
  "metadata": {
    "colab": {
      "provenance": []
    },
    "kernelspec": {
      "name": "python3",
      "display_name": "Python 3"
    }
  },
  "cells": [
    {
      "cell_type": "markdown",
      "metadata": {
        "id": "8zm5YrzyZFvC"
      },
      "source": [
        "# **<<< Only Problem 1.1 and 2.1  will be graded >>>**"
      ]
    },
    {
      "cell_type": "markdown",
      "metadata": {
        "id": "2rJxI335Amug"
      },
      "source": [
        "\n",
        "## Problem 1.1  (DFT)\n",
        "\n",
        "Given the DFT spectrum $X[k]$, express the corresponding time-domain signal\n",
        "$x[n]$ in terms of its constituent real sinusoids.\n",
        "\n",
        "1. $X[0]=3,X[1]= \\frac{1}{\\sqrt{2}}−j\\frac{1}{\\sqrt{2}} ,X[2]=−2,\n",
        "X[3]= \\frac{1}{\\sqrt{2}}+j\\frac{1}{\\sqrt{2}}$\n",
        "\n",
        "2. $X[0]=-2,X(1)= \\sqrt{3}+j1 ,X[2]=3,X[3]= \\sqrt{3}-j1$\n",
        "\n",
        "3. $X[0]=1,X[1]= 2-j2\\sqrt{3} ,X[2]=-3,X[3]= 2+j2\\sqrt{3}$"
      ]
    },
    {
      "cell_type": "code",
      "source": [
        "# Check answer of Problem 1.1.1\n",
        "import numpy as np\n",
        "import matplotlib.pyplot as plt\n",
        "from scipy import signal,fftpack\n",
        "import math\n",
        "\n",
        "X_k = [complex(3, 0), complex(1/2**0.5,-1/2**0.5), complex(-2, 0), complex(1/2**0.5,1/2**0.5)]\n",
        "x_n = np.fft.ifft(X_k)\n",
        "\n",
        "def writeup_x_n(n):\n",
        "  return 3/4 - math.cos(n*math.pi)/2 + math.cos(n*math.pi/2-math.pi/4)/2\n",
        "\n",
        "for i in range(4):\n",
        "  correct = \"Correct\" if abs(x_n[i]-writeup_x_n(i)) < 0.000001 else \"Wrong\"\n",
        "  print(\"x[\"+str(i)+\"] :\", correct)"
      ],
      "metadata": {
        "id": "FIk8aJsPThtf",
        "colab": {
          "base_uri": "https://localhost:8080/"
        },
        "outputId": "ccc3e4eb-61e8-4e83-8873-45530a7692e1"
      },
      "execution_count": null,
      "outputs": [
        {
          "output_type": "stream",
          "name": "stdout",
          "text": [
            "x[0] : Correct\n",
            "x[1] : Correct\n",
            "x[2] : Correct\n",
            "x[3] : Correct\n"
          ]
        }
      ]
    },
    {
      "cell_type": "code",
      "source": [
        "# Check answer of Problem 1.1.2\n",
        "import numpy as np\n",
        "import matplotlib.pyplot as plt\n",
        "from scipy import signal,fftpack\n",
        "\n",
        "X_k = [complex(-2, 0), complex(3**0.5,1), complex(3, 0), complex(3**0.5,-1)]\n",
        "x_n = np.fft.ifft(X_k)\n",
        "\n",
        "def writeup_x_n(n):\n",
        "  return -1/2 + 3*math.cos(n*math.pi)/4 + math.cos(n*math.pi/2+math.pi/6)\n",
        "\n",
        "for i in range(4):\n",
        "  correct = \"Correct\" if abs(x_n[i]-writeup_x_n(i)) < 0.000001 else \"Wrong\"\n",
        "  print(\"x[\"+str(i)+\"] :\", correct)"
      ],
      "metadata": {
        "colab": {
          "base_uri": "https://localhost:8080/"
        },
        "id": "xMeFfuYPKlrn",
        "outputId": "32409c78-4ded-4c76-cb4f-49953f29bc90"
      },
      "execution_count": null,
      "outputs": [
        {
          "output_type": "stream",
          "name": "stdout",
          "text": [
            "x[0] : Correct\n",
            "x[1] : Correct\n",
            "x[2] : Correct\n",
            "x[3] : Correct\n"
          ]
        }
      ]
    },
    {
      "cell_type": "code",
      "source": [
        "# Check answer of Problem 1.1.3\n",
        "import numpy as np\n",
        "import matplotlib.pyplot as plt\n",
        "from scipy import signal,fftpack\n",
        "\n",
        "X_k = [complex(1, 0), complex(2,-2*(3**0.5)), complex(-3, 0), complex(2,2*(3**0.5))]\n",
        "x_n = np.fft.ifft(X_k)\n",
        "\n",
        "def writeup_x_n(n):\n",
        "  return 1/4 - 3*math.cos(n*math.pi)/4 + 2*math.cos(n*math.pi/2-math.pi/3)\n",
        "\n",
        "for i in range(4):\n",
        "  correct = \"Correct\" if abs(x_n[i]-writeup_x_n(i)) < 0.000001 else \"Wrong\"\n",
        "  print(\"x[\"+str(i)+\"] :\", correct)"
      ],
      "metadata": {
        "colab": {
          "base_uri": "https://localhost:8080/"
        },
        "id": "YxMnUBDCKl38",
        "outputId": "883685eb-aed4-48be-93f3-0dc47901cdc4"
      },
      "execution_count": null,
      "outputs": [
        {
          "output_type": "stream",
          "name": "stdout",
          "text": [
            "x[0] : Correct\n",
            "x[1] : Correct\n",
            "x[2] : Correct\n",
            "x[3] : Correct\n"
          ]
        }
      ]
    },
    {
      "cell_type": "markdown",
      "metadata": {
        "id": "xirisxQ_nsre"
      },
      "source": [
        "## Problem 1.2 (DFT) (Optional)\n",
        "Show that if $x[n]$ is real sequence, $X[N-k]=X^{*}[k]$"
      ]
    },
    {
      "cell_type": "markdown",
      "metadata": {
        "id": "tBn1ddc3FNT3"
      },
      "source": [
        "## Problem 2.1 (DTFT)\n",
        "\n",
        "Use the properties of the discrete-time transform to determine $X(e^{j\\omega})$ for the following sequences\n",
        "\n",
        "1. $x[n] = n \\left( \\frac{1}{3} \\right)^{|n|}$\n",
        "\n",
        "2. $x[n] = a^{n} \\cos (\\Omega_0 n) \\cdot  u[n] , \\, |a|< 1 $\n",
        "\n",
        "3. $x[n] =  (n+1)a^n \\cdot u[n], \\, |a|< 1 $"
      ]
    },
    {
      "cell_type": "code",
      "source": [
        "# In write-up file"
      ],
      "metadata": {
        "id": "OvQfUyDFTiW2"
      },
      "execution_count": null,
      "outputs": []
    },
    {
      "cell_type": "markdown",
      "metadata": {
        "id": "X8BQTqRyc70o"
      },
      "source": [
        "## Problem 2.2 (DTFT)\n",
        "\n",
        "Find the discrete-time sequence $x[n]$ with tranforms in range $0 \\leq \\omega < 2\\pi$ as follows\n",
        "\n",
        "1. $X(e^{j\\omega}) = -j\\pi\\delta \\left( \\omega - \\frac{\\pi}{3} \\right)\n",
        " + \\pi\\delta \\left( \\omega - \\frac{2\\pi}{3} \\right)\n",
        " + \\pi\\delta \\left( \\omega - \\frac{4\\pi}{3} \\right)\n",
        " + j\\pi\\delta \\left( \\omega - \\frac{5\\pi}{3} \\right) $\n",
        "\n",
        "2. $X(e^{j\\omega}) = \\frac{1 - \\frac{5}{6}e^{-j\\omega} }{1 + \\frac{1}{12}e^{-j\\omega} - \\frac{1}{12}e^{-j2\\omega} }$"
      ]
    }
  ]
}