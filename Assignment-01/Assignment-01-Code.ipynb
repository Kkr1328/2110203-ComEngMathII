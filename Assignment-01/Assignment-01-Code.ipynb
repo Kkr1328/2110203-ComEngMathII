{
  "nbformat": 4,
  "nbformat_minor": 0,
  "metadata": {
    "colab": {
      "provenance": []
    },
    "kernelspec": {
      "name": "python3",
      "display_name": "Python 3"
    }
  },
  "cells": [
    {
      "cell_type": "markdown",
      "metadata": {
        "id": "3wKhYNWWJh1t"
      },
      "source": [
        "# **<< Only problem 3.1 will be graded. >>**"
      ]
    },
    {
      "cell_type": "markdown",
      "metadata": {
        "id": "FQ4eyeWTjB5N"
      },
      "source": [
        "## Linear optimization example\n",
        "\n",
        "Ex. A small startup hardware company is selling smart gadgets. This company has two main products which are smartwatches, and smart TVs sold for 1,200 and 5,000 THB, respectively. The company decides that they will buy a 3D printer to manufacture their products instead of using Chinese factories. After some testing, a printer could produce a maximum of 50 watches or 10 TVs per day. Due to the issues with logistics a total 55 items could be produced per day. For the maintenance issue, at least 3 TVs have to be produced per day. Assuming that the demand for both items is unlimited, the company asks you how many watches and TVs should they produce per single printer to maximize revenue."
      ]
    },
    {
      "cell_type": "markdown",
      "metadata": {
        "id": "k0DJ5-3ly5oM"
      },
      "source": [
        "To solve this problem, first, we have to formulate this problem as a mathematical program.\n",
        "\n",
        "To model the program we should :\n",
        "\n",
        "1. Identifying the decision variable.\n",
        "2. Identifying the objective.\n",
        "3. Identifying the constraints.\n",
        "\n",
        "A mathematical program for this example is :\n",
        "\n",
        "####Decision variable\n",
        "\n",
        "$x_1$ : The amount of smartwatches produced per day </br> $x_2$ : The amount of TVs produced per day\n",
        "\n",
        "$$Objective : max( 1200x_1 + 5000x_2) $$\n",
        "\\begin{equation*}\n",
        "s.t.\n",
        "\\begin{split}\n",
        "  \\frac{1}{50}x_1 + \\frac{1}{10}x_2 & \\leq 1 \\\\\n",
        "  x_1 + x_2 & \\leq 55 \\\\\n",
        "  x_2 & \\geq 3 \\\\\n",
        "  x_1, x_2 & \\geq 0 \\\\\n",
        "\\end{split}\n",
        "\\end{equation*}\n",
        "\n",
        "After the linear program is modeled, we then convert the program into a  standard form.\n",
        "\n",
        "$$Objective : min( - 1200x_1 - 5000x_2) )$$\n",
        "\\begin{equation*}\n",
        "s.t.\n",
        "\\begin{split}\n",
        "  \\frac{1}{50}x_1 + \\frac{1}{10}x_2 + x_3 & = 1 \\\\\n",
        "  x_1 + x_2 + x_4 & = 55 \\\\\n",
        "  x_2 -x_5 & =  3 \\\\\n",
        "  x_1, x_2, x_3, x_4, x_5 & \\geq 0 \\\\\n",
        "\\end{split}\n",
        "\\end{equation*}\n",
        "\n",
        "\n",
        "After the problem is converted into a standard form, we then convert it into a matrix form.\n",
        "\n",
        "\\begin{split}\n",
        "  min \\;\\;\\;  \\mathbf{c}^T \\mathbf{x} \\\\\n",
        "  s.t. \\; \\mathbf{A}\\mathbf{x} = \\mathbf{b} \\\\\n",
        "  \\mathbf{x} \\geq 0\n",
        "\\end{split}\n",
        "\n",
        "$$\n",
        "where \\;\\;\n",
        "\\begin{align}\n",
        "  \\mathbf{c} &= \\begin{bmatrix}\n",
        "          -1200 \\\\\n",
        "          -5000 \\\\\n",
        "          0 \\\\\n",
        "          0 \\\\\n",
        "          0 \\\\\n",
        "        \\end{bmatrix},\n",
        "        \\mathbf{A} = \\begin{bmatrix}\n",
        "          \\frac{1}{50} & \\frac{1}{10} & 1 & 0 & 0 \\\\\n",
        "          1 & 1 & 0 & 1 & 0 \\\\\n",
        "          0 & 1 & 0 & 0 & -1  \\\\\n",
        "        \\end{bmatrix},\n",
        "        \\mathbf{x} = \\begin{bmatrix}\n",
        "          x_{1} \\\\\n",
        "          x_{2} \\\\\n",
        "          x_{3} \\\\\n",
        "          x_{4} \\\\\n",
        "          x_{5} \\\\\n",
        "        \\end{bmatrix},\n",
        "         \\mathbf{b} = \\begin{bmatrix}\n",
        "          1 \\\\\n",
        "          55 \\\\\n",
        "          3\n",
        "        \\end{bmatrix}\n",
        "\\end{align}\n",
        "$$\n",
        "\n",
        "After the matrix from is obtained, we then feed the matrixs into a linear optimization library to solve for an optimal solution and optimal value."
      ]
    },
    {
      "cell_type": "markdown",
      "metadata": {
        "id": "B65ynPWxgjkL"
      },
      "source": [
        "## Import library\n",
        "\n"
      ]
    },
    {
      "cell_type": "code",
      "metadata": {
        "id": "gVetW3jLa5hJ"
      },
      "source": [
        "from scipy.optimize import linprog\n",
        "import numpy as np"
      ],
      "execution_count": null,
      "outputs": []
    },
    {
      "cell_type": "markdown",
      "metadata": {
        "id": "p2gfG6owe8eu"
      },
      "source": [
        "## Creating a matrix form of the problem\n",
        "\n",
        "\n"
      ]
    },
    {
      "cell_type": "code",
      "metadata": {
        "id": "LSc2Zo7YbAGf"
      },
      "source": [
        "c_T = np.array([-1200, -5000, 0, 0, 0])\n",
        "A = np.array(\n",
        "    [\n",
        "     [1/50     , 1/10   , 1,  0,  0],\n",
        "     [1          , 1        , 0, 1,  0],\n",
        "     [0          , 1        , 0, 0, -1],\n",
        "    ]\n",
        ")\n",
        "bound = [[0, None], [0, None], [0, None], [0, None], [0, None]] # bound for each variables (0, inf)\n",
        "b = [1, 55, 3]"
      ],
      "execution_count": null,
      "outputs": []
    },
    {
      "cell_type": "markdown",
      "metadata": {
        "id": "f08rFmcEfPiE"
      },
      "source": [
        "## Solving the optimization problem\n",
        "It was found that x = [35, 3, 0, 17, 0], which means that we should produce 35 watches and 3 TVs per day."
      ]
    },
    {
      "cell_type": "code",
      "metadata": {
        "id": "7QBjKLGScmlT",
        "colab": {
          "base_uri": "https://localhost:8080/"
        },
        "outputId": "22fb1ec7-32a1-41ce-ce7e-4ffd72966044"
      },
      "source": [
        "result = linprog(c = c_T, A_eq = A, b_eq=b, bounds=bound, method='simplex')\n",
        "print(\"{}\\n\\n optimal value is {} \\n optimal soultion is {}\".format(result,result.fun, result.x)) # actual optimal value is 57000"
      ],
      "execution_count": null,
      "outputs": [
        {
          "output_type": "stream",
          "name": "stdout",
          "text": [
            "     con: array([-2.22044605e-16,  0.00000000e+00, -8.88178420e-16])\n",
            "     fun: -57000.0\n",
            " message: 'Optimization terminated successfully.'\n",
            "     nit: 4\n",
            "   slack: array([], dtype=float64)\n",
            "  status: 0\n",
            " success: True\n",
            "       x: array([35.,  3.,  0., 17.,  0.])\n",
            "\n",
            " optimal value is -57000.0 \n",
            " optimal soultion is [35.  3.  0. 17.  0.]\n"
          ]
        }
      ]
    },
    {
      "cell_type": "markdown",
      "metadata": {
        "id": "Ipg-evgdfeoU"
      },
      "source": [
        "## Example of wrong matrix formation\n",
        "\n",
        "Instead of producing at least 3 TVs, we mistype and produce at least 15 TVs instead. Thus, a feasible solution could not be found.\n"
      ]
    },
    {
      "cell_type": "code",
      "metadata": {
        "id": "wV4ylDNfdngj",
        "colab": {
          "base_uri": "https://localhost:8080/"
        },
        "outputId": "d9daca65-1289-45c8-b73d-ab4de31b705e"
      },
      "source": [
        "new_b = [1, 55, 15]\n",
        "result = linprog(c = c_T, A_eq = A, b_eq = new_b, bounds=bound, method='simplex')\n",
        "print(result)"
      ],
      "execution_count": null,
      "outputs": [
        {
          "output_type": "stream",
          "name": "stdout",
          "text": [
            "     con: array([0., 0., 5.])\n",
            "     fun: -50000.0\n",
            " message: \"Phase 1 of the simplex method failed to find a feasible solution. The pseudo-objective function evaluates to 5.0e+00 which exceeds the required tolerance of 1e-09 for a solution to be considered 'close enough' to zero to be a basic solution. Consider increasing the tolerance to be greater than 5.0e+00. If this tolerance is unacceptably  large the problem may be infeasible.\"\n",
            "     nit: 2\n",
            "   slack: array([], dtype=float64)\n",
            "  status: 2\n",
            " success: False\n",
            "       x: array([ 0., 10.,  0., 45.,  0.])\n"
          ]
        }
      ]
    },
    {
      "cell_type": "markdown",
      "metadata": {
        "id": "RtQMcuwGh_IH"
      },
      "source": [
        "If we remove the production constraint. The solution becomes unbounded."
      ]
    },
    {
      "cell_type": "code",
      "metadata": {
        "id": "ySf-bd7Wic-B",
        "colab": {
          "base_uri": "https://localhost:8080/"
        },
        "outputId": "ebce9e64-6ac1-49d0-9934-c1fb59e1d649"
      },
      "source": [
        "c_T = np.array([-1200, -5000,  0])\n",
        "A = np.array(\n",
        "    [\n",
        "     [0, 1, -1]\n",
        "    ]\n",
        ")\n",
        "bound = [[0, None], [0, None], [0, None],] # bound for each variables (0, inf)\n",
        "b = [3]\n",
        "result = linprog(c = c_T, A_eq = A, b_eq = b, bounds=bound, method='simplex')\n",
        "print(result)"
      ],
      "execution_count": null,
      "outputs": [
        {
          "output_type": "stream",
          "name": "stdout",
          "text": [
            "     con: array([nan])\n",
            "     fun: -inf\n",
            " message: 'If feasible, the problem is (trivially) unbounded due  to a zero column in the constraint matrices. If you wish to check whether the problem is infeasible, turn presolve off.'\n",
            "     nit: 0\n",
            "   slack: array([], dtype=float64)\n",
            "  status: 3\n",
            " success: False\n",
            "       x: array([inf,  0.,  0.])\n"
          ]
        }
      ]
    },
    {
      "cell_type": "markdown",
      "metadata": {
        "id": "E6ThaPtEMCXO"
      },
      "source": [
        "## Tips and tricks"
      ]
    },
    {
      "cell_type": "markdown",
      "metadata": {
        "id": "MD1DvA6gMIfr"
      },
      "source": [
        "You can create an identiy matrix by using `np.eye`."
      ]
    },
    {
      "cell_type": "code",
      "metadata": {
        "colab": {
          "base_uri": "https://localhost:8080/"
        },
        "id": "wEFDCLclMGXw",
        "outputId": "c9ee325f-bc6b-49f5-e6b9-5816733c7521"
      },
      "source": [
        "x = np.eye(5)\n",
        "print(x)"
      ],
      "execution_count": null,
      "outputs": [
        {
          "output_type": "stream",
          "name": "stdout",
          "text": [
            "[[1. 0. 0. 0. 0.]\n",
            " [0. 1. 0. 0. 0.]\n",
            " [0. 0. 1. 0. 0.]\n",
            " [0. 0. 0. 1. 0.]\n",
            " [0. 0. 0. 0. 1.]]\n"
          ]
        }
      ]
    },
    {
      "cell_type": "code",
      "metadata": {
        "colab": {
          "base_uri": "https://localhost:8080/"
        },
        "id": "rANpPy59Ma9i",
        "outputId": "9bb55583-a282-4497-8c44-949e36bab5f1"
      },
      "source": [
        "y = np.zeros((8, 8))\n",
        "x = np.eye(5)\n",
        "y[2: 7, 2: 7] =x\n",
        "print(y)"
      ],
      "execution_count": null,
      "outputs": [
        {
          "output_type": "stream",
          "name": "stdout",
          "text": [
            "[[0. 0. 0. 0. 0. 0. 0. 0.]\n",
            " [0. 0. 0. 0. 0. 0. 0. 0.]\n",
            " [0. 0. 1. 0. 0. 0. 0. 0.]\n",
            " [0. 0. 0. 1. 0. 0. 0. 0.]\n",
            " [0. 0. 0. 0. 1. 0. 0. 0.]\n",
            " [0. 0. 0. 0. 0. 1. 0. 0.]\n",
            " [0. 0. 0. 0. 0. 0. 1. 0.]\n",
            " [0. 0. 0. 0. 0. 0. 0. 0.]]\n"
          ]
        }
      ]
    },
    {
      "cell_type": "markdown",
      "metadata": {
        "id": "X67Yc4JdMrPL"
      },
      "source": [
        "You can also index data diaganolly."
      ]
    },
    {
      "cell_type": "code",
      "metadata": {
        "colab": {
          "base_uri": "https://localhost:8080/"
        },
        "id": "bLLR9Qq_Mzk-",
        "outputId": "300930c7-4911-4ed2-b0f2-8b0ad76fa643"
      },
      "source": [
        "a = np.array([3, 2, 1])\n",
        "print(np.diag(a))"
      ],
      "execution_count": null,
      "outputs": [
        {
          "output_type": "stream",
          "name": "stdout",
          "text": [
            "[[3 0 0]\n",
            " [0 2 0]\n",
            " [0 0 1]]\n"
          ]
        }
      ]
    },
    {
      "cell_type": "code",
      "metadata": {
        "colab": {
          "base_uri": "https://localhost:8080/"
        },
        "id": "H6_j_dCMNdTX",
        "outputId": "0ba30ba3-55c7-4fcb-bf61-38f6da9dfba1"
      },
      "source": [
        "y = np.zeros((6, 6))\n",
        "y[2: 5, 2: 5] =np.diag(a)\n",
        "print(y)"
      ],
      "execution_count": null,
      "outputs": [
        {
          "output_type": "stream",
          "name": "stdout",
          "text": [
            "[[0. 0. 0. 0. 0. 0.]\n",
            " [0. 0. 0. 0. 0. 0.]\n",
            " [0. 0. 3. 0. 0. 0.]\n",
            " [0. 0. 0. 2. 0. 0.]\n",
            " [0. 0. 0. 0. 1. 0.]\n",
            " [0. 0. 0. 0. 0. 0.]]\n"
          ]
        }
      ]
    },
    {
      "cell_type": "code",
      "metadata": {
        "colab": {
          "base_uri": "https://localhost:8080/"
        },
        "id": "MQlkD6aQNoON",
        "outputId": "b3d1ba5b-3606-4951-b733-b2e97552726e"
      },
      "source": [
        "y = np.zeros((6, 6))\n",
        "di  = np.diag_indices(len(a))\n",
        "y[di] = a\n",
        "print(y)\n",
        "y[di[0], di[1] + 1] = a* 2\n",
        "print(y)\n"
      ],
      "execution_count": null,
      "outputs": [
        {
          "output_type": "stream",
          "name": "stdout",
          "text": [
            "[[3. 0. 0. 0. 0. 0.]\n",
            " [0. 2. 0. 0. 0. 0.]\n",
            " [0. 0. 1. 0. 0. 0.]\n",
            " [0. 0. 0. 0. 0. 0.]\n",
            " [0. 0. 0. 0. 0. 0.]\n",
            " [0. 0. 0. 0. 0. 0.]]\n",
            "[[3. 6. 0. 0. 0. 0.]\n",
            " [0. 2. 4. 0. 0. 0.]\n",
            " [0. 0. 1. 2. 0. 0.]\n",
            " [0. 0. 0. 0. 0. 0.]\n",
            " [0. 0. 0. 0. 0. 0.]\n",
            " [0. 0. 0. 0. 0. 0.]]\n"
          ]
        }
      ]
    },
    {
      "cell_type": "code",
      "source": [
        "# another useful python trick\n",
        "bound = [[0, None]] * 5\n",
        "print(bound)"
      ],
      "metadata": {
        "colab": {
          "base_uri": "https://localhost:8080/"
        },
        "id": "ivq1_l4ANM4-",
        "outputId": "5f15cc10-f3ee-4172-f096-4d2121124c09"
      },
      "execution_count": null,
      "outputs": [
        {
          "output_type": "stream",
          "name": "stdout",
          "text": [
            "[[0, None], [0, None], [0, None], [0, None], [0, None]]\n"
          ]
        }
      ]
    },
    {
      "cell_type": "markdown",
      "metadata": {
        "id": "YDTE17_wSHKD"
      },
      "source": [
        "## Problem 1 : Skill Check\n",
        "\n",
        "Solve the following program :\n",
        "$$Objective : max(3x + 4y) $$\n",
        "\\begin{equation*}\n",
        "s.t.\n",
        "\\begin{split}\n",
        "  x + 2y & \\leq 7 \\\\\n",
        "  3x  - y & \\geq 0 \\\\\n",
        "  x -  y & \\leq  2 \\\\\n",
        "  x, y & \\geq 0 \\\\\n",
        "\\end{split}\n",
        "\\end{equation*}\n",
        "\n"
      ]
    },
    {
      "cell_type": "code",
      "metadata": {
        "id": "xsmaSo8ESHk8",
        "outputId": "26c0f517-a5d8-4ea8-c688-fd2802a0f674",
        "colab": {
          "base_uri": "https://localhost:8080/"
        }
      },
      "source": [
        "c_T = np.array([-3, -4, 0, 0, 0])\n",
        "A = np.array(\n",
        "    [\n",
        "     [1,    2,    1,    0,    0],\n",
        "     [3,    -1,   0,    -1,    0],\n",
        "     [1,    -1,   0,    0,    1]\n",
        "    ]\n",
        ")\n",
        "bound = [[0, None]]*5 # bound for each variables (0, inf)\n",
        "b = [7, 0, 2]\n",
        "result = linprog(c = c_T, A_eq = A, b_eq = b, bounds=bound, method='simplex')\n",
        "print(\"{}\\n\\n optimal value is {} \\n optimal soultion is {}\".format(result,-result.fun, result.x[:2]))"
      ],
      "execution_count": null,
      "outputs": [
        {
          "output_type": "stream",
          "name": "stdout",
          "text": [
            "     con: array([0.00000000e+00, 0.00000000e+00, 2.22044605e-16])\n",
            "     fun: -17.666666666666668\n",
            " message: 'Optimization terminated successfully.'\n",
            "     nit: 4\n",
            "   slack: array([], dtype=float64)\n",
            "  status: 0\n",
            " success: True\n",
            "       x: array([3.66666667, 1.66666667, 0.        , 9.33333333, 0.        ])\n",
            "\n",
            " optimal value is 17.666666666666668 \n",
            " optimal soultion is [3.66666667 1.66666667]\n"
          ]
        }
      ]
    },
    {
      "cell_type": "markdown",
      "metadata": {
        "id": "x4ja-gE17SP7"
      },
      "source": [
        "## Problem 1.2 :\n",
        "\n",
        "Solve problem 1 by using a graphical method and draw an isoprofit line. Does the obtained solution the same as the one we get in problem 1? You can solve this problem on your tablet/paper or use a plotting library."
      ]
    },
    {
      "cell_type": "code",
      "metadata": {
        "id": "c1NFdUZy_Sgy",
        "colab": {
          "base_uri": "https://localhost:8080/",
          "height": 336
        },
        "outputId": "38f835fc-ead6-4118-ed51-98c26f8acdd1"
      },
      "source": [
        "# basic matplotlib command\n",
        "import matplotlib.pyplot as plt\n",
        "x = np.linspace(0, 1000, 100)\n",
        "y = 2 * x + 1\n",
        "y2 = -x +  49\n",
        "\n",
        "min_y, max_y = -10000, 10000\n",
        "\n",
        "plt.figure(figsize = (5, 5))\n",
        "plt.xlim(0, 100)\n",
        "plt.ylim(0, 100)\n",
        "plt.title('y = 2x + 1, y = -x + 49')\n",
        "plt.plot(x , y, color = 'green' , label = 'y = 2x+1')\n",
        "plt.fill_between(x, y, min_y, color = 'red', alpha = 0.3, label = 'area under')\n",
        "plt.fill_between(x, y, max_y, color = 'blue', alpha = 0.3, label = 'area above')\n",
        "\n",
        "plt.plot(x , y2, color = 'orange', label = 'y = -x+49')\n",
        "plt.fill_between(x, y2, min_y, color = 'yellow', alpha = 1)\n",
        "\n",
        "# plt.scatter(16, 33, s = 100, color = 'purple',  label = 'intersection point')\n",
        "plt.legend()\n",
        "plt.grid(color = 'black')\n",
        "\n",
        "plt.show()"
      ],
      "execution_count": null,
      "outputs": [
        {
          "output_type": "display_data",
          "data": {
            "text/plain": [
              "<Figure size 360x360 with 1 Axes>"
            ],
            "image/png": "[encoded data removed]"
          },
          "metadata": {
            "needs_background": "light"
          }
        }
      ]
    },
    {
      "cell_type": "markdown",
      "metadata": {
        "id": "4FOctM0pDLrs"
      },
      "source": [
        "## Problem 2 : Hamtaro factory\n",
        "\n",
        "After Hamtaro finished planting the sunflower field, he then aims to open the Hamtaro factory, selling sunflower snacks to the fellow hamsters. However, the harvested sunflower seeds have different grades, which leads to different nutrition values. Nutrition values for each grade are shown in the table below. To sell the snack at the market, the HFA (Hamster Food Administration) states that the snack they produce must contain at least 60% protein and no more than 5% fat. To minimize the ingredient cost, how should Hamtaro mix the sunflower seeds to pass the HFA approval? Formulate the problem as a linear program and solve for an optimal solution.\n",
        "\n",
        "|  sunflower seed grade | % protein| % fat |cost per g (THB) |\n",
        "|:-----------------:|:------------:|:------------:|:------------:|\n",
        "| terrible | 25 | 10 | 0.01 |\n",
        "| low | 40  | 7 | 0.3 |\n",
        "| medium | 70 | 4 | 0.7 |\n",
        "| high | 90 | 1 | 1.2  |\n",
        "\n"
      ]
    },
    {
      "cell_type": "code",
      "metadata": {
        "id": "IlhdZeHwLgiy",
        "colab": {
          "base_uri": "https://localhost:8080/"
        },
        "outputId": "0f26d7cc-70c5-4849-cce0-e4371f31600f"
      },
      "source": [
        "# Let T, L, M, H be ratio of each seed type\n",
        "#\n",
        "# T + L + M + H = 1\n",
        "#\n",
        "# 25T + 40L + 70M + 90H >= 60\n",
        "# -> 25T + 40L + 70M + 90H - e = 60\n",
        "#\n",
        "# 10T + 7L + 4M + 1H <= 5\n",
        "# -> 10T + 7L + 4M + H + s = 5\n",
        "#\n",
        "# find min of 0.01T + 0.3L + 0.7M + 1.2H\n",
        "\n",
        "c_T = np.array([0.01, 0.3, 0.7, 1.2, 0, 0, 0])\n",
        "A = np.array(\n",
        "    [\n",
        "     [25,  40,  70,  90,  -1,  0  ,0],\n",
        "     [10,  7,   4,   1,   0,   1  ,0],\n",
        "     [1,   1,   1,   1,   0,   0  ,0],\n",
        "     [0,   0,   0,   1,   0,   0  ,-1]\n",
        "    ]\n",
        ")\n",
        "bound = [[0, None]]*7 # bound for each variables (0, inf)\n",
        "b = [60, 5, 1, 0.25]\n",
        "result = linprog(c = c_T, A_eq = A, b_eq = b, bounds=bound, method='simplex')\n",
        "print(\"{}\\n\\n optimal value is {} \\n optimal soultion is {}\".format(result,result.fun, result.x[:4]))"
      ],
      "execution_count": null,
      "outputs": [
        {
          "output_type": "stream",
          "name": "stdout",
          "text": [
            "     con: array([ 0.00000000e+00,  0.00000000e+00,  0.00000000e+00, -5.55111512e-17])\n",
            "     fun: 0.61\n",
            " message: 'Optimization terminated successfully.'\n",
            "     nit: 5\n",
            "   slack: array([], dtype=float64)\n",
            "  status: 0\n",
            " success: True\n",
            "       x: array([0.16666667, 0.25      , 0.33333333, 0.25      , 0.        ,\n",
            "       0.        , 0.        ])\n",
            "\n",
            " optimal value is 0.61 \n",
            " optimal soultion is [0.16666667 0.25       0.33333333 0.25      ]\n"
          ]
        }
      ]
    },
    {
      "cell_type": "markdown",
      "metadata": {
        "id": "qSEdChfKkpcj"
      },
      "source": [
        "## Problem 3.1 : Storage server management\n",
        "\n",
        "A company is running a video analytic system. To store the analyzed videos, the company has 10 local storage servers to store the data, of which each of them could store 24 TB per server. Recently, the company finds out that the servers  they have will not be adequate in the recent future. Therefore, the company has to figure out a plan to scale up its resource. The CTO has come up with two solutions, which are buying new storage servers, and using a cloud storage service called 'SWA S3'. The cloud storage service charges 690 THB/TB per month. On the other hand, buying a new server costs 40,000 THB, but it could be used for a very long time.  After several discussions, the company has projected the amount of storage required for each month. The projected data is shown in the table below. To minimize the cost, what should the company do to store the data? Formulate the problem as a linear program and solve for an optimal solution.\n",
        "\n",
        "**Note 1 : The optimal solution does not have to be an integer.** </br>\n",
        "**Note 2 : The company could buy new servers at any month.**\n",
        "\n",
        "|  Month | 1  |  2 |  3 |  4 | 5 | 6 | 7 | 8 |\n",
        "|:-:|:-:|:-:|:-:|:-:|:-:|:-:|:-:|:-:|\n",
        "| Estimated amount of storage required (TB) | 140 | 200 | 300 | 1000 | 1400| 500 | 600 | 900 | 700 |\n",
        "\n"
      ]
    },
    {
      "cell_type": "code",
      "metadata": {
        "id": "8TPfk7Ep0iB4",
        "colab": {
          "base_uri": "https://localhost:8080/"
        },
        "outputId": "9a8e0ed1-e2ca-4415-88ba-a805197f2f70"
      },
      "source": [
        "# decision variables: Nx is the number of new servers bought in month x\n",
        "#                     Cx is the number of TB using cloud system in month x\n",
        "#\n",
        "# objective: min(40000(N1 + N2 + N3 + N4 + N5 + N6 + N7 + N8) + 690(C1 + C2 + C3 + C4 + C5 + C6 + C7 + C8))\n",
        "#\n",
        "# constraints:  24(N1)                                    + C1 >= 0     ->  24(N1)                                    + C1 - E1 = 0\n",
        "#               24(N1 + N2)                               + C2 >= 0     ->  24(N1 + N2)                               + C2 - E2 = 0\n",
        "#               24(N1 + N2 + N3)                          + C3 >= 60    ->  24(N1 + N2 + N3)                          + C3 - E3 = 60\n",
        "#               24(N1 + N2 + N3 + N4)                     + C4 >= 760   ->  24(N1 + N2 + N3 + N4)                     + C4 - E4 = 760\n",
        "#               24(N1 + N2 + N3 + N4 + N5)                + C5 >= 1160  ->  24(N1 + N2 + N3 + N4 + N5)                + C5 - E5 = 1160\n",
        "#               24(N1 + N2 + N3 + N4 + N5 + N6)           + C6 >= 260   ->  24(N1 + N2 + N3 + N4 + N5 + N6)           + C6 - E6 = 260\n",
        "#               24(N1 + N2 + N3 + N4 + N5 + N6 + N7)      + C7 >= 360   ->  24(N1 + N2 + N3 + N4 + N5 + N6 + N7)      + C7 - E7 = 360\n",
        "#               24(N1 + N2 + N3 + N4 + N5 + N6 + N7 + N8) + C8 >= 660   ->  24(N1 + N2 + N3 + N4 + N5 + N6 + N7 + N8) + C8 - E8 = 660\n",
        "#               when Ex is excess variable\n",
        "#               Ex >= 0 for all x = 1 to 8\n",
        "#               Nx >= 0 for all x = 1 to 8\n",
        "#               Cx >= 0 for all x = 1 to 8\n",
        "\n",
        "c_T = np.array([40000]*8 + [690]*8 + [0]*8)\n",
        "\n",
        "# create A\n",
        "A = np.zeros((8, 24))\n",
        "lower_triangle_matrix = np.tril(np.ones((8, 8)), k=0)\n",
        "A[::, 0:8] = lower_triangle_matrix*24\n",
        "A[::, 8:16] = np.eye(8)\n",
        "A[::, 16:24] = -np.eye(8)\n",
        "\n",
        "bound = [[0, None]]*24 # bound for each variables (0, inf)\n",
        "\n",
        "b = [0, 0, 60, 760, 1160, 260, 360, 660]\n",
        "result = linprog(c = c_T, A_eq = A, b_eq = b, bounds=bound, method='simplex')\n",
        "print(\"{}\\n\\n optimal value is {} \\n optimal soultion is {}\".format(result,result.fun, result.x[:16]))"
      ],
      "execution_count": null,
      "outputs": [
        {
          "output_type": "stream",
          "name": "stdout",
          "text": [
            "     con: array([0., 0., 0., 0., 0., 0., 0., 0.])\n",
            "     fun: 1514000.0\n",
            " message: 'Optimization terminated successfully.'\n",
            "     nit: 12\n",
            "   slack: array([], dtype=float64)\n",
            "  status: 0\n",
            " success: True\n",
            "       x: array([  0. ,   0. ,   2.5,  25. ,   0. ,   0. ,   0. ,   0. ,   0. ,\n",
            "         0. ,   0. , 100. , 500. ,   0. ,   0. ,   0. ,   0. ,   0. ,\n",
            "         0. ,   0. ,   0. , 400. , 300. ,   0. ])\n",
            "\n",
            " optimal value is 1514000.0 \n",
            " optimal soultion is [  0.    0.    2.5  25.    0.    0.    0.    0.    0.    0.    0.  100.\n",
            " 500.    0.    0.    0. ]\n"
          ]
        }
      ]
    },
    {
      "cell_type": "markdown",
      "metadata": {
        "id": "QNBsmTGJ3LWz"
      },
      "source": [
        "## Problem 3.2\n",
        "From problem 3. Would the optimal solution change if the company has to pay 2,000 THB maintenance  fee per month for each local storage server they have?"
      ]
    },
    {
      "cell_type": "code",
      "metadata": {
        "id": "5fUTxZqkfSCr",
        "colab": {
          "base_uri": "https://localhost:8080/"
        },
        "outputId": "23a54af1-cd9a-47d1-c984-69b639927fe0"
      },
      "source": [
        "# decision variables: Nx is the number of new servers bought in month x\n",
        "#                     Cx is the number of TB using cloud system in month x\n",
        "#\n",
        "# objective: min(40000(N1 + N2 + N3 + N4 + N5 + N6 + N7 + N8) + 2000(8*N1 + 7*N2 + 6*N3 + 5*N4 + 4*N5 + 3*N6 + 2*N7 + 1*N8) + 690(C1 + C2 + C3 + C4 + C5 + C6 + C7 + C8) + 2000*8*10)\n",
        "#\n",
        "# constraints:  24(N1)                                    + C1 >= 0     ->  24(N1)                                    + C1 - E1 = 0\n",
        "#               24(N1 + N2)                               + C2 >= 0     ->  24(N1 + N2)                               + C2 - E2 = 0\n",
        "#               24(N1 + N2 + N3)                          + C3 >= 60    ->  24(N1 + N2 + N3)                          + C3 - E3 = 60\n",
        "#               24(N1 + N2 + N3 + N4)                     + C4 >= 760   ->  24(N1 + N2 + N3 + N4)                     + C4 - E4 = 760\n",
        "#               24(N1 + N2 + N3 + N4 + N5)                + C5 >= 1160  ->  24(N1 + N2 + N3 + N4 + N5)                + C5 - E5 = 1160\n",
        "#               24(N1 + N2 + N3 + N4 + N5 + N6)           + C6 >= 260   ->  24(N1 + N2 + N3 + N4 + N5 + N6)           + C6 - E6 = 260\n",
        "#               24(N1 + N2 + N3 + N4 + N5 + N6 + N7)      + C7 >= 360   ->  24(N1 + N2 + N3 + N4 + N5 + N6 + N7)      + C7 - E7 = 360\n",
        "#               24(N1 + N2 + N3 + N4 + N5 + N6 + N7 + N8) + C8 >= 660   ->  24(N1 + N2 + N3 + N4 + N5 + N6 + N7 + N8) + C8 - E8 = 660\n",
        "#               when Ex is excess variable\n",
        "#               Ex >= 0 for all x = 1 to 8\n",
        "#               Nx >= 0 for all x = 1 to 8\n",
        "#               Cx >= 0 for all x = 1 to 8\n",
        "\n",
        "# create c_T\n",
        "c_T = np.zeros(24)\n",
        "c_T[:8] = np.array(range(9))[:0:-1]*2000 + np.ones(8)*40000\n",
        "c_T[8:16] = np.ones(8)*690\n",
        "print(c_T)\n",
        "\n",
        "# create A\n",
        "A = np.zeros((8, 24))\n",
        "lower_triangle_matrix = np.tril(np.ones((8, 8)), k=0)\n",
        "A[::, 0:8] = lower_triangle_matrix*24\n",
        "A[::, 8:16] = np.eye(8)\n",
        "A[::, 16:24] = -np.eye(8)\n",
        "\n",
        "bound = [[0, None]]*24 # bound for each variables (0, inf)\n",
        "\n",
        "b = [0, 0, 60, 760, 1160, 260, 360, 660]\n",
        "result = linprog(c = c_T, A_eq = A, b_eq = b, bounds=bound, method='simplex')\n",
        "print(\"{}\\n\\n optimal value is {} \\n optimal soultion is {}\".format(result,result.fun + 2000*8*10, result.x[:16]))"
      ],
      "execution_count": null,
      "outputs": [
        {
          "output_type": "stream",
          "name": "stdout",
          "text": [
            "[56000. 54000. 52000. 50000. 48000. 46000. 44000. 42000.   690.   690.\n",
            "   690.   690.   690.   690.   690.   690.     0.     0.     0.     0.\n",
            "     0.     0.     0.     0.]\n",
            "     con: array([0., 0., 0., 0., 0., 0., 0., 0.])\n",
            "     fun: 1790000.0\n",
            " message: 'Optimization terminated successfully.'\n",
            "     nit: 13\n",
            "   slack: array([], dtype=float64)\n",
            "  status: 0\n",
            " success: True\n",
            "       x: array([  0. ,   0. ,   2.5,  12.5,   0. ,   0. ,   0. ,   0. ,   0. ,\n",
            "         0. ,   0. , 400. , 800. ,   0. ,   0. , 300. ,   0. ,   0. ,\n",
            "         0. ,   0. ,   0. , 100. ,   0. ,   0. ])\n",
            "\n",
            " optimal value is 1950000.0 \n",
            " optimal soultion is [  0.    0.    2.5  12.5   0.    0.    0.    0.    0.    0.    0.  400.\n",
            " 800.    0.    0.  300. ]\n"
          ]
        }
      ]
    },
    {
      "cell_type": "markdown",
      "metadata": {
        "id": "kVFassDBfbG9"
      },
      "source": [
        "## Problem 4 : Task assignment\n",
        "\n",
        "A data center company has a lot of servers to be maintained. Thus, the maintainers are required 24/7. To maintain the servers, the company has employed four technicians, of which one of them is a senior. Each technician has to work at least 40 hours per week, except for the senior one, which works exactly 36 hours per week. The wage is paid hourly, and every technician has different wages and availability. The maintenance is performed with exactly one person on duty.  How should the company assign each person to be on duty to minimize the maintenance cost? Formulate the problem as a linear program and solve for an optimal solution.\n",
        "\n",
        "<table>\n",
        "  <tr>\n",
        "    <td><b>Technician</td>\n",
        "    <td><b>Wage per hour(weekday)</td>\n",
        "    <td><b>Wage per hour(weekend)</td>\n",
        "    <td colspan=\"7\"><b>Maximum hours of avaiability</td>\n",
        "  </tr>\n",
        "  <tr>\n",
        "    <td colspan=\"3\"><b></td>\n",
        "    <td><b>Mon.</td>\n",
        "    <td><b>Tue.</td>\n",
        "    <td><b>Wed.</td>\n",
        "    <td><b>Thurs.</td>\n",
        "    <td><b>Fri.</td>\n",
        "    <td><b>Sat.</td>\n",
        "    <td><b>Sun.</td>\n",
        "  </tr>\n",
        "  <tr>\n",
        "    <td >Technician A</td>\n",
        "    <td >70</td>\n",
        "    <td >80</td>\n",
        "    <td >12</td>\n",
        "    <td >10</td>\n",
        "    <td >12</td>\n",
        "    <td >0</td>\n",
        "    <td >8</td>\n",
        "    <td >8</td>\n",
        "    <td >4</td>\n",
        "  </tr>\n",
        "  <tr>\n",
        "    <td >Technician B</td>\n",
        "    <td >70</td>\n",
        "    <td >80</td>\n",
        "    <td >12</td>\n",
        "    <td >10</td>\n",
        "    <td >0</td>\n",
        "    <td >8</td>\n",
        "    <td >8</td>\n",
        "    <td >4</td>\n",
        "    <td >8</td>\n",
        "  </tr>\n",
        "  \n",
        "  <tr>\n",
        "    <td >Technician C</td>\n",
        "    <td >80</td>\n",
        "    <td >75</td>\n",
        "    <td >0</td>\n",
        "    <td >10</td>\n",
        "    <td >8</td>\n",
        "    <td >8</td>\n",
        "    <td >0</td>\n",
        "    <td >10</td>\n",
        "    <td >10</td>\n",
        "  </tr>\n",
        "  \n",
        "  <tr>\n",
        "    <td >Senior technician D</td>\n",
        "    <td >160</td>\n",
        "    <td >200</td>\n",
        "    <td >24</td>\n",
        "    <td >0</td>\n",
        "    <td >24</td>\n",
        "    <td >24</td>\n",
        "    <td >24</td>\n",
        "    <td >24</td>\n",
        "    <td >24</td>\n",
        "  </tr>\n",
        "  \n",
        "\n",
        "\n",
        "</table>\n"
      ]
    },
    {
      "cell_type": "code",
      "metadata": {
        "id": "zzdfeD1mTox-",
        "colab": {
          "base_uri": "https://localhost:8080/"
        },
        "outputId": "6eca9c5b-0156-45a4-f140-a896f068c6dc"
      },
      "source": [
        "# create c_T\n",
        "c_T = np.array([70]*5 + [80]*2 + [70]*5 + [80]*2 + [80]*5 + [75]*2 + [160]*5 + [200]*2 + [0]*32)\n",
        "\n",
        "# create A\n",
        "A = np.zeros((39, 60))\n",
        "\n",
        "# upper bound\n",
        "A[:28, :28] = np.eye(28)\n",
        "A[:28, 28:56] = np.eye(28)\n",
        "\n",
        "# 24 hour of each day\n",
        "A[28:35, :7] = np.eye(7)\n",
        "A[28:35, 7:14] = np.eye(7)\n",
        "A[28:35, 14:21] = np.eye(7)\n",
        "A[28:35, 21:28] = np.eye(7)\n",
        "\n",
        "# hour of each tech\n",
        "A[35, :7] = np.ones(7)\n",
        "A[36, 7:14] = np.ones(7)\n",
        "A[37, 14:21] = np.ones(7)\n",
        "A[38, 21:28] = np.ones(7)\n",
        "A[35:38, 56:59] = -np.eye(3)\n",
        "\n",
        "bound = [[0, None]]*60\n",
        "\n",
        "b = [12, 10, 12, 0, 8, 8, 4,\n",
        "     12, 10, 0, 8, 8, 4, 8,\n",
        "     0, 10, 8, 8, 0, 10, 10,\n",
        "     24, 0, 24, 24, 24, 24, 24] + [24]*7 + [40, 40, 40, 36]\n",
        "result = linprog(c = c_T, A_eq = A, b_eq = b, bounds=bound, method='simplex')\n",
        "print(\"{}\\n\\n optimal value is {} \\n optimal soultion is {}\".format(result,result.fun, result.x))\n",
        "print(\"A : {} {}\".format(result.x[:7].sum(), result.x[:7]))\n",
        "print(\"B : {} {}\".format(result.x[7:14].sum(), result.x[7:14]))\n",
        "print(\"C : {} {}\".format(result.x[14:21].sum(), result.x[14:21]))\n",
        "print(\"D : {} {}\".format(result.x[21:28].sum(),result.x[21:28]))"
      ],
      "execution_count": null,
      "outputs": [
        {
          "output_type": "stream",
          "name": "stdout",
          "text": [
            "     con: array([0., 0., 0., 0., 0., 0., 0., 0., 0., 0., 0., 0., 0., 0., 0., 0., 0.,\n",
            "       0., 0., 0., 0., 0., 0., 0., 0., 0., 0., 0., 0., 0., 0., 0., 0., 0.,\n",
            "       0., 0., 0., 0., 0.])\n",
            "     fun: 15700.0\n",
            " message: 'Optimization terminated successfully.'\n",
            "     nit: 64\n",
            "   slack: array([], dtype=float64)\n",
            "  status: 0\n",
            " success: True\n",
            "       x: array([ 0., 10., 12.,  0.,  8.,  8.,  4., 12., 10.,  0.,  8.,  8.,  4.,\n",
            "        8.,  0.,  4.,  8.,  8.,  0., 10., 10., 12.,  0.,  4.,  8.,  8.,\n",
            "        2.,  2., 12.,  0.,  0.,  0.,  0.,  0.,  0.,  0.,  0.,  0.,  0.,\n",
            "        0.,  0.,  0.,  0.,  6.,  0.,  0.,  0.,  0.,  0., 12.,  0., 20.,\n",
            "       16., 16., 22., 22.,  2., 10.,  0.,  0.])\n",
            "\n",
            " optimal value is 15700.0 \n",
            " optimal soultion is [ 0. 10. 12.  0.  8.  8.  4. 12. 10.  0.  8.  8.  4.  8.  0.  4.  8.  8.\n",
            "  0. 10. 10. 12.  0.  4.  8.  8.  2.  2. 12.  0.  0.  0.  0.  0.  0.  0.\n",
            "  0.  0.  0.  0.  0.  0.  0.  6.  0.  0.  0.  0.  0. 12.  0. 20. 16. 16.\n",
            " 22. 22.  2. 10.  0.  0.]\n",
            "A : 42.0 [ 0. 10. 12.  0.  8.  8.  4.]\n",
            "B : 50.0 [12. 10.  0.  8.  8.  4.  8.]\n",
            "C : 40.0 [ 0.  4.  8.  8.  0. 10. 10.]\n",
            "D : 36.0 [12.  0.  4.  8.  8.  2.  2.]\n"
          ]
        }
      ]
    },
    {
      "cell_type": "markdown",
      "metadata": {
        "id": "y3XsicAEVr1j"
      },
      "source": [
        "## Problem 5 : Courier service\n",
        "\n",
        "A company named \"Curry\" provides courier services to the customer. In town X, 10 customers are using this company's service. To satisfy the demand in this town, the company has placed the courier office as a hub for the couriers to collect customers' packages. However, only a limited amount of packages could be stockpiled in each office. The company has to pay the couriers 10 THB per kg per distance they have traveled in kilometer. Moreover, the package could be partially collected (divisible), i.e., a courier from office A and C could collect 200 kg, 300 kg package from customer 1. How should this company plan to send the couriers to collect the package such that the package collection cost is minimized? The amount of packages to be collected for each customer is shown in Table 2.1. The size of each package storage is shown in Table 2.2. The distance from the courier office to each customer is shown in Table 2.3. Formulate the problem as a linear program and solve for an optimal solution.\n",
        "\n",
        "**Note :  The optimal solution does not have to be an integer.**\n",
        "\n",
        "\n",
        "Table 2.1. Amount of packages to be collected for each customer.\n",
        "\n",
        "|  Customer | 1  |  2 |  3 |  4 | 5 | 6 | 7 | 8 | 9 | 10 |\n",
        "|:-:|:-:|:-:|:-:|:-:|:-:|:-:|:-:|:-:|:-:|:-:|\n",
        "| Amount of packages to be collected (kg) | 500 | 200 | 1000 | 2000 | 150 | 20 | 350 |250 | 375 | 1\n",
        "\n",
        "Table 2.2. The size of package storage for each office.\n",
        "\n",
        "|  Office | Storage size (kg)|\n",
        "|:-----------------:|:------------:|\n",
        "| A | 1500 |\n",
        "| B | 1000 |\n",
        "| C | 4000 |\n",
        "\n",
        "Table 2.3. Distance from the office to each household (km)\n",
        "\n",
        "|  From / to | 1  |  2 |  3 |  4 | 5 | 6 | 7 | 8 | 9 | 10 |\n",
        "|:-:|:-:|:-:|:-:|:-:|:-:|:-:|:-:|:-:|:-:|:-:|\n",
        "| A | 4 | 3 | 8 | 1 | 2 | 1 | 3 | 2 | 4 | 4 |\n",
        "| B | 3 | 1 | 1 | 8 | 3 | 4 | 5 | 7 | 9 | 8 |\n",
        "| C | 8 | 6 | 5 | 3 | 1 | 6 | 7 | 2 | 7 | 5 |\n",
        "\n",
        "\n"
      ]
    },
    {
      "cell_type": "code",
      "metadata": {
        "id": "dSTZrbmS4j1A",
        "colab": {
          "base_uri": "https://localhost:8080/"
        },
        "outputId": "da18eedb-b716-4a45-fde7-ec4207c3ce7b"
      },
      "source": [
        "# create c_T\n",
        "c_T = np.array([4, 3, 8, 1, 2, 1, 3, 2, 4, 4,\n",
        "                3, 1, 1, 8, 3, 4, 5, 7, 9, 8,\n",
        "                8, 6, 5, 3, 1, 6, 7, 2, 7, 5] + 13*[0])*10\n",
        "\n",
        "# create A\n",
        "A = np.zeros((13, 43))\n",
        "A[0, :10] = np.ones(10)\n",
        "A[1, 10:20] = np.ones(10)\n",
        "A[2, 20:30] = np.ones(10)\n",
        "A[3:13, :10] = np.eye(10)\n",
        "A[3:13, 10:20] = np.eye(10)\n",
        "A[3:13, 20:30] = np.eye(10)\n",
        "A[:3, 30:33] = np.eye(3)\n",
        "A[3:, 33:43] = -np.eye(10)\n",
        "\n",
        "bound = [[0, None]]*43\n",
        "\n",
        "b = [1500, 1000, 4000, 500, 200, 1000, 2000, 150, 20, 350, 250, 375, 1]\n",
        "result = linprog(c = c_T, A_eq = A, b_eq = b, bounds=bound, method='simplex')\n",
        "print(\"{}\\n\\n optimal value is {} \\n optimal soultion is {}\".format(result,result.fun, result.x[:30]))"
      ],
      "execution_count": null,
      "outputs": [
        {
          "output_type": "stream",
          "name": "stdout",
          "text": [
            "     con: array([0., 0., 0., 0., 0., 0., 0., 0., 0., 0., 0., 0., 0.])\n",
            "     fun: 127150.0\n",
            " message: 'Optimization terminated successfully.'\n",
            "     nit: 42\n",
            "   slack: array([], dtype=float64)\n",
            "  status: 0\n",
            " success: True\n",
            "       x: array([5.000e+02, 2.000e+02, 0.000e+00, 5.500e+01, 0.000e+00, 2.000e+01,\n",
            "       3.500e+02, 0.000e+00, 3.750e+02, 0.000e+00, 0.000e+00, 0.000e+00,\n",
            "       1.000e+03, 0.000e+00, 0.000e+00, 0.000e+00, 0.000e+00, 0.000e+00,\n",
            "       0.000e+00, 0.000e+00, 0.000e+00, 0.000e+00, 0.000e+00, 1.945e+03,\n",
            "       1.500e+02, 0.000e+00, 0.000e+00, 2.500e+02, 0.000e+00, 1.000e+00,\n",
            "       0.000e+00, 0.000e+00, 1.654e+03, 0.000e+00, 0.000e+00, 0.000e+00,\n",
            "       0.000e+00, 0.000e+00, 0.000e+00, 0.000e+00, 0.000e+00, 0.000e+00,\n",
            "       0.000e+00])\n",
            "\n",
            " optimal value is 127150.0 \n",
            " optimal soultion is [5.000e+02 2.000e+02 0.000e+00 5.500e+01 0.000e+00 2.000e+01 3.500e+02\n",
            " 0.000e+00 3.750e+02 0.000e+00 0.000e+00 0.000e+00 1.000e+03 0.000e+00\n",
            " 0.000e+00 0.000e+00 0.000e+00 0.000e+00 0.000e+00 0.000e+00 0.000e+00\n",
            " 0.000e+00 0.000e+00 1.945e+03 1.500e+02 0.000e+00 0.000e+00 2.500e+02\n",
            " 0.000e+00 1.000e+00]\n"
          ]
        }
      ]
    },
    {
      "cell_type": "markdown",
      "metadata": {
        "id": "dgQ64tUjirj3"
      },
      "source": [
        "## Problem 6: VM placement\n",
        "\n",
        "A startup company is provisioning virtual machines (VM) for cloud computing.  Currently, the company offers three types of instances, which are a small, medium, and large instance. The detail for each type of instance is shown in the table below. To host the VMs, the company has a large number of servers to provide its service. All of the servers they possessed have 8 CPUs core. Recently, the company has found a new customer to use their service. The customer want to host 20 small, 9 medium, and 5 large instances for their company. Moreover, the customer also demands that only they could access the provided server, i.e., the company could not use the leftover CPUs to serve other customers despite having 2 CPUs left. How many servers should the company allocate to serve this customer? Formulate the problem as a linear program and solve for an optimal solution.\n",
        "\n",
        "|  Instance type |    Number of CPUs provided   |\n",
        "|:-----------------:|:------------:|\n",
        "| small | 2 CPUs |\n",
        "| medium | 3 CPUs |\n",
        "| large   | 4 CPUs |\n",
        "\n",
        "**Note : The optimal solution does not have to be an integer.** </br>\n",
        "**Hint : How many way could we fit the instances into a single server?**\n"
      ]
    },
    {
      "cell_type": "code",
      "metadata": {
        "id": "a1aWwDSbE_iI",
        "colab": {
          "base_uri": "https://localhost:8080/"
        },
        "outputId": "8be23bb8-d554-4d6e-89a9-61bf3de98d7b"
      },
      "source": [
        "# S1 S2 S3 S4\n",
        "# M1 M2\n",
        "# L1 L2\n",
        "# S1M1 S1M2 S1L1\n",
        "# S2M1 S2L1\n",
        "# M1L1\n",
        "\n",
        "# create c_T\n",
        "c_T = np.array([1]*14)\n",
        "\n",
        "# create A\n",
        "A = np.array([\n",
        "    [1, 2, 3, 4, 0, 0, 0, 0, 1, 1, 1, 2, 2, 0],\n",
        "    [0, 0, 0, 0, 1, 2, 0, 0, 1, 2, 0, 1, 0, 1],\n",
        "    [0, 0, 0, 0, 0, 0, 1, 2, 0, 0, 1, 0, 1, 1]\n",
        "])\n",
        "\n",
        "bound = [[0, None]]*14\n",
        "\n",
        "b = [20, 9, 5]\n",
        "result = linprog(c = c_T, A_eq = A, b_eq = b, bounds=bound, method='simplex')\n",
        "print(\"{}\\n\\n optimal value is {} \\n optimal soultion is {}\".format(result,result.fun, result.x[:14]))"
      ],
      "execution_count": null,
      "outputs": [
        {
          "output_type": "stream",
          "name": "stdout",
          "text": [
            "     con: array([0., 0., 0.])\n",
            "     fun: 10.875\n",
            " message: 'Optimization terminated successfully.'\n",
            "     nit: 4\n",
            "   slack: array([], dtype=float64)\n",
            "  status: 0\n",
            " success: True\n",
            "       x: array([0.   , 0.   , 0.   , 3.875, 0.   , 0.   , 0.   , 2.5  , 0.   ,\n",
            "       4.5  , 0.   , 0.   , 0.   , 0.   ])\n",
            "\n",
            " optimal value is 10.875 \n",
            " optimal soultion is [0.    0.    0.    3.875 0.    0.    0.    2.5   0.    4.5   0.    0.\n",
            " 0.    0.   ]\n"
          ]
        }
      ]
    },
    {
      "cell_type": "markdown",
      "metadata": {
        "id": "j46xyv25agkq"
      },
      "source": [
        "\n",
        "## Problem 7: Linear binary classification model (Maximal Margin Classifier)\n",
        "\n",
        "This problem will introduce you to a basic machine learning classification algortithm. Let's say that we have the dataset $D = \\{ (x_0, y_0), (x_1, y_1), ..., (x_n, y_n)\\}$. Each element in $D$ is a datapoint $x_i$ in a form of tuple $(x_0, x_1)$ which belong to the class  $y_i \\in \\{-1, 1\\}$. Machine learning alogrithm aims to represent the dataset $D$ using sets of parameter $\\mathbf{\\theta}$.  For classification task, we use machine learning alogrithm to correctly classify the class $y$ given the datapoint $x$.\n",
        "\n",
        "In this problem, we use a linear line $\\theta_0x_0 + \\theta_1x_1 + \\theta_2 = 0$ as a classifier.  The datapoints above and below the line will be classified as class 1 (positive) and -1 (negative) respectively. The objective of this problem is to find the parameters of the linear classifier $\\mathbf{\\theta}$ given $D$ by formulating the problem as a linear program. A figure below demonstrates that the line with the parameter $ (\\theta_0, \\theta_1, \\theta_2) = (1.5, 1, -5)$, i.e., $1.5x_0 + x_1 - 5 = 0$,  could seperate the data into two classes.  \n"
      ]
    },
    {
      "cell_type": "code",
      "metadata": {
        "id": "WGiHhW8Edmrr"
      },
      "source": [
        "import matplotlib.pyplot as plt"
      ],
      "execution_count": null,
      "outputs": []
    },
    {
      "cell_type": "code",
      "metadata": {
        "id": "c0xIsWpLalNH"
      },
      "source": [
        "class_a = np.random.randn(10, 2)* 0.5 # generate class -1 data\n",
        "class_b = np.random.randn(10, 2) * 0.5  + 5# generte class 1 data"
      ],
      "execution_count": null,
      "outputs": []
    },
    {
      "cell_type": "code",
      "metadata": {
        "colab": {
          "base_uri": "https://localhost:8080/"
        },
        "id": "UgKsyomkhYlj",
        "outputId": "0117b334-5927-4706-e542-bc7d167d16a7"
      },
      "source": [
        "print(class_a[0]) # example of datapoint"
      ],
      "execution_count": null,
      "outputs": [
        {
          "output_type": "stream",
          "name": "stdout",
          "text": [
            "[ 0.46954756 -0.6495861 ]\n"
          ]
        }
      ]
    },
    {
      "cell_type": "code",
      "metadata": {
        "id": "d0EnEo1nhpQr"
      },
      "source": [
        "def generate_decision_boundary(theta_0, theta_1, theta_2, xmin = -10,  ymin = -10, xmax = 10, ymax = 10, h = 0.1):\n",
        "  '''\n",
        "    Input : Parameter theta_0, theta_1, theta_2 of a linear classifier\n",
        "    Output : Decision boundary ( 1 is positive, -1 is negative, 0 is seperating hyperplane)\n",
        "  '''\n",
        "  x_0, x_1 = np.meshgrid(np.arange(xmin, xmax, h), np.arange(ymin, ymax, h))\n",
        "  prediction = theta_0 * x_0 + theta_1 * x_1 + theta_2\n",
        "  prediction[prediction > 0] = 1\n",
        "  prediction[prediction < 0] = -1\n",
        "  return (x_0, x_1, prediction)\n",
        "\n",
        "theta_0 = 1.5\n",
        "theta_1 = 1\n",
        "theta_2 = -5\n",
        "decision_boundary = generate_decision_boundary(theta_0, theta_1, theta_2)\n"
      ],
      "execution_count": null,
      "outputs": []
    },
    {
      "cell_type": "code",
      "metadata": {
        "id": "QIfPY9pRdRyR",
        "colab": {
          "base_uri": "https://localhost:8080/",
          "height": 351
        },
        "outputId": "c2dd9e5e-f4bf-4fec-9629-909a33ca49d5"
      },
      "source": [
        "plt.figure(figsize = (5, 5))\n",
        "plt.xlim(-4.5, 9)\n",
        "plt.ylim (-4.5, 9)\n",
        "\n",
        "plt.scatter(class_a[:, 0], class_a[:, 1], color = 'red', label = 'class -1')\n",
        "plt.scatter(class_b[:, 0], class_b[:, 1], color = 'green', label = 'class 1')\n",
        "plt.contourf(decision_boundary[0], decision_boundary[1], decision_boundary[2], cmap = 'RdYlGn', alpha = 0.1) # plot decision boundary\n",
        "plt.xlabel('x_0')\n",
        "plt.ylabel('x_1')\n",
        "plt.title('green area is 1.5x_0 + x_1 - 5 > 0, red area is 1.5x_0 + x_1 - 5 < 0')\n",
        "plt.legend()\n",
        "plt.show()"
      ],
      "execution_count": null,
      "outputs": [
        {
          "output_type": "display_data",
          "data": {
            "text/plain": [
              "<Figure size 360x360 with 1 Axes>"
            ],
            "image/png": "[encoded data removed]"
          },
          "metadata": {
            "needs_background": "light"
          }
        }
      ]
    },
    {
      "cell_type": "markdown",
      "metadata": {
        "id": "srwb3WbL3SCX"
      },
      "source": [
        "As you can see, the line $\\theta_0x_0 + \\theta_1x_1 + \\theta_2 = 0$ could seperate the data into two classes by constraining $x_i$ which has the value of $\\theta_0x_{i,0} + \\theta_1x_{i,1} + \\theta_2 > 0$ into a positive class $(y_i = 1)$ and $\\theta_0x_{i,0} + \\theta_1x_{i,1} + \\beta_2 < 0$ into a negative class $(y_i = -1)$. Therefore, the value of $\\theta$ could optimized by constraining the line to satisfy the condition of every datapoints w.r.t. its class, which result in the mathematical program shown below.\n",
        "\n",
        "$$Objective : - $$\n",
        "\\begin{equation*}\n",
        "s.t.\n",
        "\\begin{split}\n",
        "  \\theta_0x_{i, 0} + \\theta_1x_{i, 1} + \\theta_2   & > 0 \\\\\n",
        "  \\theta_0x_{j, 0} + \\theta_1x_{j, 1} + \\theta_2   & < 0 \\\\\n",
        "  \\forall i, y_i & = 1 \\\\\n",
        "  \\forall j, y_j & = -1 \\\\\n",
        "\\end{split}\n",
        "\\end{equation*}\n",
        "\n",
        "The program could also be written in a form of:\n",
        "\n",
        "$$Objective : - $$\n",
        "\\begin{equation*}\n",
        "s.t.\n",
        "\\begin{split}\n",
        "  \\forall i, y_i(\\theta_0x_{i, 0} + \\theta_1x_{i, 1} + \\theta_2)   & > 0 \\\\\n",
        "\\end{split}\n",
        "\\end{equation*}\n"
      ]
    },
    {
      "cell_type": "markdown",
      "metadata": {
        "id": "EByS1PkQgUAX"
      },
      "source": [
        "The program above could return a feasible solution yet the wellness of the optimized value is not defined. For example, $H_2$ and $H_3$ in the image below are both acceptable solution using the program above. However, $H_3$ might be a preferred solution.\n",
        "\n",
        "<img src=\"https://upload.wikimedia.org/wikipedia/commons/b/b5/Svm_separating_hyperplanes_%28SVG%29.svg\" width=\"30%\" >\n",
        "\n",
        "\n",
        "Image source: https://upload.wikimedia.org/wikipedia/commons/b/b5/Svm_separating_hyperplanes_%28SVG%29.svg\n",
        "\n",
        "Thus, we introduce the margin $\\epsilon$ to define the wellness of the program.  The margin is the shortest distance from the hyperplane to the closest datapoint. Maximizing $\\epsilon$ would result in the line which has the largest separation between the two classes (maximum margin). As a result, the program becomes:\n",
        "\n",
        "$$Objective : max(\\epsilon) $$\n",
        "\\begin{equation*}\n",
        "s.t.\n",
        "\\begin{split}\n",
        "  \\theta_0x_{i, 0} + \\theta_1x_{i, 1} + \\theta_2   & \\geq \\epsilon \\\\\n",
        "  \\theta_0x_{j, 0} + \\theta_1x_{j, 1} + \\theta_2   & \\leq  -\\epsilon \\\\\n",
        "  \\forall i, y_i & = 1 \\\\\n",
        "  \\forall j, y_j & = -1 \\\\\n",
        "  \\theta_0, \\theta_1 & \\in [-1,1] \\\\\n",
        "\\end{split}\n",
        "\\end{equation*}\n",
        "\n",
        "The program could also be written in a form of:\n",
        "\n",
        "$$Objective : max(\\epsilon) $$\n",
        "\\begin{equation*}\n",
        "s.t.\n",
        "\\begin{split}\n",
        "  \\forall i, y_i(\\theta_0x_{i, 0} + \\theta_1x_{i, 1} + \\theta_2)   & \\geq \\epsilon \\\\\n",
        "   \\theta_0, \\theta_1 & \\in [-1,1] \\\\\n",
        "\\end{split}\n",
        "\\end{equation*}\n",
        "\n",
        " $ \\theta_0, \\theta_1 $ are both bounded to $[-1,1]$ to prevent unbounded solution.\n",
        "\n",
        "<b> Note: This is a simplified version of a linear support vector machine and many details are omitted. You can read more at https://en.wikipedia.org/wiki/Support-vector_machine#Linear_SVM if interested."
      ]
    },
    {
      "cell_type": "markdown",
      "metadata": {
        "id": "vk7gTgm9CEBP"
      },
      "source": [
        "###Problem 7.1\n",
        "Convert the mathematical program above into a linear program. Then, use the converted program to solve for the line seperating the datapoints below. <b> Do not forget to visualize the solved line."
      ]
    },
    {
      "cell_type": "code",
      "metadata": {
        "id": "nVAHuVJu7Ca9",
        "colab": {
          "base_uri": "https://localhost:8080/"
        },
        "outputId": "538beaeb-bee8-4a04-c61d-75dcfce032f7"
      },
      "source": [
        "class_a = np.array([[np.random.uniform(2.1, 3), np.random.uniform(2.3, 4)] for _ in range(20)]) # class -1 data\n",
        "class_b = np.array([[np.random.uniform(-1, 2), np.random.uniform(0, 2.2)] for _ in range(20)]) # class 1 data\n",
        "print(class_a.shape)"
      ],
      "execution_count": null,
      "outputs": [
        {
          "output_type": "stream",
          "name": "stdout",
          "text": [
            "(20, 2)\n"
          ]
        }
      ]
    },
    {
      "cell_type": "code",
      "metadata": {
        "colab": {
          "base_uri": "https://localhost:8080/",
          "height": 320
        },
        "id": "BB3ultHHCaN2",
        "outputId": "09044763-b75d-4c12-a07d-45a0ea4a3851"
      },
      "source": [
        "plt.figure(figsize = (5, 5))\n",
        "plt.scatter(class_a[:, 0], class_a[:, 1], color = 'red', label = 'class -1')\n",
        "plt.scatter(class_b[:, 0], class_b[:, 1], color = 'green', label = 'class 1')\n",
        "plt.legend()\n",
        "plt.show()"
      ],
      "execution_count": null,
      "outputs": [
        {
          "output_type": "display_data",
          "data": {
            "text/plain": [
              "<Figure size 360x360 with 1 Axes>"
            ],
            "image/png": "[encoded data removed]"
          },
          "metadata": {
            "needs_background": "light"
          }
        }
      ]
    },
    {
      "cell_type": "code",
      "source": [
        "# create c_T\n",
        "c_T = np.zeros((A.shape[1]))\n",
        "c_T[-1] = -1\n",
        "\n",
        "# create A\n",
        "class_a_x = np.concatenate( (class_a, np.ones((class_a.shape[0], 1))), axis=1 )\n",
        "class_b_x = np.concatenate( (class_b, np.ones((class_b.shape[0], 1))), axis=1 )\n",
        "dataset = np.concatenate( (class_a_x, -class_b_x))\n",
        "slack_var = -np.eye(dataset.shape[0])\n",
        "epsilon = -np.ones((dataset.shape[0], 1))\n",
        "A = np.concatenate( (dataset, slack_var, epsilon), axis=1 )\n",
        "\n",
        "bound = [[-1, 1]]*2 + [[None, None]] + [[0, None]]*41\n",
        "\n",
        "b = [0]*40\n",
        "result = linprog(c = c_T, A_eq = A, b_eq = b, bounds=bound, method='simplex')\n",
        "print(\"{}\\n\\n optimal value is {} \\n optimal soultion is {}\".format(result,result.fun, result.x[:4]))"
      ],
      "metadata": {
        "colab": {
          "base_uri": "https://localhost:8080/"
        },
        "id": "flbHT58y8-2O",
        "outputId": "cd853db7-41d6-4de9-aae4-6d4f6cdb841c"
      },
      "execution_count": null,
      "outputs": [
        {
          "output_type": "stream",
          "name": "stdout",
          "text": [
            "     con: array([ 7.54951657e-15,  4.88498131e-15,  1.50990331e-14,  1.82076576e-14,\n",
            "        3.33066907e-14,  2.97539771e-14,  8.43769499e-15,  4.44089210e-16,\n",
            "        4.44089210e-16,  0.00000000e+00,  2.66453526e-15, -4.44089210e-15,\n",
            "        2.77555756e-14,  1.68753900e-14, -1.06581410e-14,  3.55271368e-15,\n",
            "        2.22044605e-16,  1.42108547e-14,  7.99360578e-15,  5.32907052e-15,\n",
            "       -3.55271368e-15, -5.32907052e-15, -4.44089210e-15, -3.99680289e-15,\n",
            "       -1.37667655e-14, -2.66453526e-15, -1.19904087e-14, -1.55431223e-15,\n",
            "       -4.44089210e-15, -5.32907052e-15, -4.88498131e-15, -1.77635684e-15,\n",
            "       -4.44089210e-15, -5.32907052e-15, -4.44089210e-15, -4.44089210e-15,\n",
            "       -3.99680289e-15, -7.54951657e-15, -4.44089210e-15, -1.46549439e-14])\n",
            "     fun: -0.497819068929127\n",
            " message: 'Optimization terminated successfully.'\n",
            "     nit: 47\n",
            "   slack: array([], dtype=float64)\n",
            "  status: 0\n",
            " success: True\n",
            "       x: array([ 1.        ,  1.        , -4.42723115,  0.5191053 ,  1.29982694,\n",
            "        0.45239176,  0.78843394,  1.10181981,  0.98007229,  1.03104479,\n",
            "        0.67598529,  0.3028349 ,  0.        ,  1.23895726,  0.34983429,\n",
            "        0.41272942,  0.59406107,  1.13023395,  0.15922168,  0.56184763,\n",
            "        0.42235202,  0.34798778,  0.65284676,  3.27536598,  1.10987672,\n",
            "        2.1441322 ,  2.0957438 ,  1.60019244,  0.99245455,  0.        ,\n",
            "        2.79813848,  3.22117624,  2.68640537,  1.64394904,  1.46747417,\n",
            "        3.29772335,  2.05588726,  3.39420177,  2.73054776,  3.44865779,\n",
            "        1.52248021,  4.08051566,  0.80594706,  0.49781907])\n",
            "\n",
            " optimal value is -0.497819068929127 \n",
            " optimal soultion is [ 1.          1.         -4.42723115  0.5191053 ]\n"
          ]
        }
      ]
    },
    {
      "cell_type": "code",
      "metadata": {
        "id": "7cEnnn85EEz3",
        "colab": {
          "base_uri": "https://localhost:8080/"
        },
        "outputId": "850ee38b-a9fb-491e-e1f8-8af2eebc561d"
      },
      "source": [
        "# objective: min(-e)\n",
        "# variables:\n",
        "# constraints:\n",
        "\n",
        "# create c_T\n",
        "c_T = np.array([0]*3 + [-1] + [0]*40)\n",
        "\n",
        "# create A\n",
        "A = np.zeros((40, 44))\n",
        "\n",
        "for i in range(20):\n",
        "  A[i, 0] = class_a[i, 0]\n",
        "  A[i, 1] = class_a[i, 1]\n",
        "  A[i+20, 0] = -class_b[i, 0]\n",
        "  A[i+20, 1] = -class_b[i, 1]\n",
        "\n",
        "# theta_2\n",
        "A[:20, 2] = np.ones(20)\n",
        "A[20:, 2] = -np.ones(20)\n",
        "A[:, 3] = -np.ones(40)\n",
        "A[:, 4:] = -np.eye(40)\n",
        "\n",
        "bound = [[-1, 1]]*2 + [[None, None]] + [[0, None]]*41\n",
        "\n",
        "b = [0]*40\n",
        "result = linprog(c = c_T, A_eq = A, b_eq = b, bounds=bound, method='simplex')\n",
        "print(\"{}\\n\\n optimal value is {} \\n optimal soultion is {}\".format(result,result.fun, result.x[:4]))\n",
        "\n",
        "theta_0 = result.x[0]\n",
        "theta_1 = result.x[1]\n",
        "theta_2 = result.x[2]\n",
        "E = -result.x[3]"
      ],
      "execution_count": null,
      "outputs": [
        {
          "output_type": "stream",
          "name": "stdout",
          "text": [
            "     con: array([ 7.99360578e-15,  4.88498131e-15,  1.55431223e-14,  1.77635684e-14,\n",
            "        3.33066907e-14,  2.97539771e-14,  8.88178420e-15,  0.00000000e+00,\n",
            "        4.44089210e-16,  0.00000000e+00,  2.66453526e-15, -4.44089210e-15,\n",
            "        2.79776202e-14,  1.68753900e-14, -1.06581410e-14,  3.10862447e-15,\n",
            "        4.44089210e-16,  1.46549439e-14,  7.54951657e-15,  4.88498131e-15,\n",
            "       -3.99680289e-15, -4.88498131e-15, -4.55191440e-15, -3.55271368e-15,\n",
            "       -1.37667655e-14, -2.66453526e-15, -1.19904087e-14, -1.77635684e-15,\n",
            "       -4.44089210e-15, -5.32907052e-15, -4.88498131e-15, -1.77635684e-15,\n",
            "       -4.44089210e-15, -5.77315973e-15, -4.44089210e-15, -4.44089210e-15,\n",
            "       -3.88578059e-15, -7.54951657e-15, -4.99600361e-15, -1.46549439e-14])\n",
            "     fun: -0.497819068929127\n",
            " message: 'Optimization terminated successfully.'\n",
            "     nit: 47\n",
            "   slack: array([], dtype=float64)\n",
            "  status: 0\n",
            " success: True\n",
            "       x: array([ 1.        ,  1.        , -4.42723115,  0.49781907,  0.5191053 ,\n",
            "        1.29982694,  0.45239176,  0.78843394,  1.10181981,  0.98007229,\n",
            "        1.03104479,  0.67598529,  0.3028349 ,  0.        ,  1.23895726,\n",
            "        0.34983429,  0.41272942,  0.59406107,  1.13023395,  0.15922168,\n",
            "        0.56184763,  0.42235202,  0.34798778,  0.65284676,  3.27536598,\n",
            "        1.10987672,  2.1441322 ,  2.0957438 ,  1.60019244,  0.99245455,\n",
            "        0.        ,  2.79813848,  3.22117624,  2.68640537,  1.64394904,\n",
            "        1.46747417,  3.29772335,  2.05588726,  3.39420177,  2.73054776,\n",
            "        3.44865779,  1.52248021,  4.08051566,  0.80594706])\n",
            "\n",
            " optimal value is -0.497819068929127 \n",
            " optimal soultion is [ 1.          1.         -4.42723115  0.49781907]\n"
          ]
        }
      ]
    },
    {
      "cell_type": "code",
      "source": [
        "def generate_decision_boundary(theta_0, theta_1, theta_2, xmin = -10,  ymin = -10, xmax = 10, ymax = 10, h = 0.1):\n",
        "  '''\n",
        "    Input : Parameter theta_0, theta_1, theta_2 of a linear classifier\n",
        "    Output : Decision boundary ( 1 is positive, -1 is negative, 0 is seperating hyperplane)\n",
        "  '''\n",
        "  x_0, x_1 = np.meshgrid(np.arange(xmin, xmax, h), np.arange(ymin, ymax, h))\n",
        "  prediction = theta_0 * x_0 + theta_1 * x_1 + theta_2\n",
        "  prediction[prediction > E] = 1\n",
        "  prediction[prediction < -E] = -1\n",
        "  return (x_0, x_1, prediction)\n",
        "\n",
        "decision_boundary = generate_decision_boundary(theta_0, theta_1, theta_2)"
      ],
      "metadata": {
        "id": "dYM3wA26vuva"
      },
      "execution_count": null,
      "outputs": []
    },
    {
      "cell_type": "code",
      "source": [
        "plt.figure(figsize = (5, 5))\n",
        "plt.xlim(-2, 5)\n",
        "plt.ylim (-2, 5)\n",
        "\n",
        "plt.scatter(class_a[:, 0], class_a[:, 1], color = 'red', label = 'class -1')\n",
        "plt.scatter(class_b[:, 0], class_b[:, 1], color = 'green', label = 'class 1')\n",
        "plt.contourf(decision_boundary[0], decision_boundary[1], decision_boundary[2], cmap = 'RdYlGn', alpha = 0.1) # plot decision boundary\n",
        "plt.xlabel('x_0')\n",
        "plt.ylabel('x_1')\n",
        "plt.title('green area is 1.5x_0 + x_1 - 5 > 0, red area is 1.5x_0 + x_1 - 5 < 0')\n",
        "plt.legend()\n",
        "plt.show()"
      ],
      "metadata": {
        "colab": {
          "base_uri": "https://localhost:8080/",
          "height": 351
        },
        "id": "113nSAqrwBRO",
        "outputId": "9dd611ab-5044-44d1-9629-1e4b861e5464"
      },
      "execution_count": null,
      "outputs": [
        {
          "output_type": "display_data",
          "data": {
            "text/plain": [
              "<Figure size 360x360 with 1 Axes>"
            ],
            "image/png": "[encoded data removed]"
          },
          "metadata": {
            "needs_background": "light"
          }
        }
      ]
    },
    {
      "cell_type": "markdown",
      "metadata": {
        "id": "ttwf8LZ8DNqO"
      },
      "source": [
        "###Problem 7.2\n",
        "Given the datapoints below, repeat 7.1 and observe the result. What is happening to the solution and why does this happen?"
      ]
    },
    {
      "cell_type": "code",
      "metadata": {
        "id": "q_JORCo0Ciav"
      },
      "source": [
        "class_a = np.random.uniform(0, 2, (20, 2) ) # class -1 data\n",
        "class_b = np.random.uniform(0.5, 3, (20, 2)) # class 1 data"
      ],
      "execution_count": null,
      "outputs": []
    },
    {
      "cell_type": "code",
      "metadata": {
        "colab": {
          "base_uri": "https://localhost:8080/",
          "height": 320
        },
        "id": "Vk3t4jkCDcfk",
        "outputId": "ac49bea8-4c8a-40ae-c570-1ba2d0b2335a"
      },
      "source": [
        "plt.figure(figsize = (5, 5))\n",
        "plt.scatter(class_a[:, 0], class_a[:, 1], color = 'red', label = 'class -1')\n",
        "plt.scatter(class_b[:, 0], class_b[:, 1], color = 'green', label = 'class 1')\n",
        "plt.legend()\n",
        "plt.show()"
      ],
      "execution_count": null,
      "outputs": [
        {
          "output_type": "display_data",
          "data": {
            "text/plain": [
              "<Figure size 360x360 with 1 Axes>"
            ],
            "image/png": "[encoded data removed]"
          },
          "metadata": {
            "needs_background": "light"
          }
        }
      ]
    },
    {
      "cell_type": "code",
      "metadata": {
        "id": "iWxEiEv7EGE2",
        "colab": {
          "base_uri": "https://localhost:8080/",
          "height": 351
        },
        "outputId": "4bf1f4b7-ebd7-49a3-b509-0c974fd6bfd7"
      },
      "source": [
        "plt.figure(figsize = (5, 5))\n",
        "\n",
        "plt.scatter(class_a[:, 0], class_a[:, 1], color = 'red', label = 'class -1')\n",
        "plt.scatter(class_b[:, 0], class_b[:, 1], color = 'green', label = 'class 1')\n",
        "\n",
        "plt.contourf(decision_boundary[0], decision_boundary[1], decision_boundary[2], cmap = 'RdYlGn', alpha = 0.1) # plot decision boundary\n",
        "plt.xlabel('x_0')\n",
        "plt.ylabel('x_1')\n",
        "plt.title('green area is 1.5x_0 + x_1 - 5 > 0, red area is 1.5x_0 + x_1 - 5 < 0')\n",
        "\n",
        "plt.legend()\n",
        "plt.show()"
      ],
      "execution_count": null,
      "outputs": [
        {
          "output_type": "display_data",
          "data": {
            "text/plain": [
              "<Figure size 360x360 with 1 Axes>"
            ],
            "image/png": "[encoded data removed]"
          },
          "metadata": {
            "needs_background": "light"
          }
        }
      ]
    }
  ]
}