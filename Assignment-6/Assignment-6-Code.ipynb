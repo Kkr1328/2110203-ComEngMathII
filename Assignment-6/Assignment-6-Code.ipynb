{
  "nbformat": 4,
  "nbformat_minor": 0,
  "metadata": {
    "colab": {
      "provenance": []
    },
    "kernelspec": {
      "name": "python3",
      "display_name": "Python 3"
    }
  },
  "cells": [
    {
      "cell_type": "markdown",
      "metadata": {
        "id": "-63oJvzsbO-k"
      },
      "source": [
        "#  **<<< Only Problem 2 and 3 will be graded >>>**\n"
      ]
    },
    {
      "cell_type": "code",
      "metadata": {
        "id": "NJJRGQUCEuNE"
      },
      "source": [
        "import matplotlib.pyplot as plt\n",
        "import numpy as np\n",
        "import IPython.display as ipd\n",
        "%matplotlib inline\n",
        "import os\n",
        "from scipy import signal,fftpack\n",
        "from skimage.io import imread\n",
        "import cv2"
      ],
      "execution_count": null,
      "outputs": []
    },
    {
      "cell_type": "markdown",
      "metadata": {
        "id": "n1iccSts9JaA"
      },
      "source": [
        "## Problem 1\n",
        "Find the Fourier tranform of the following signals in terms of $X(j\\omega)$, the Fourier tranform of $x(t)$\n",
        "$ \\left( \\mathscr{F} \\left\\{ x(t) \\right\\} = X(j\\omega) \\right)  $\n",
        "\n",
        "1. $x(-t)$\n",
        "1. $x_e(t) = \\frac{x(t) + x(-t)}{2}$\n",
        "1. $x_o(t) = \\frac{x(t) - x(-t)}{2}$"
      ]
    },
    {
      "cell_type": "markdown",
      "metadata": {
        "id": "94hxliNP9MQH"
      },
      "source": [
        "## Problem 2\n",
        "Let $  \\mathscr{F} \\left\\{ x(t) \\right\\} = X(j\\omega) = \\textrm{rect} \\left[ (\\omega-1)/2\\right]  $. Find Fourier tranform of\n",
        "\n",
        "1. $x(-2t+4)$\n",
        "1. $(t-1)x(t-1)$\n",
        "1. $ t\\frac{dx(t)}{dt}$\n",
        "1. $ x(2t-1)\\exp[-j2t]$\n",
        "1. $ x(t)*x(t-1)$\n"
      ]
    },
    {
      "cell_type": "code",
      "source": [
        "# each answer and solution are in write-up file"
      ],
      "metadata": {
        "id": "iqgEwmNDfQ40"
      },
      "execution_count": null,
      "outputs": []
    },
    {
      "cell_type": "markdown",
      "metadata": {
        "id": "DSVxufo09QW5"
      },
      "source": [
        "## Problem 3\n",
        "\n",
        "For each of the following Fourier transform ($X(j\\omega)$), use Fourier transform properties to determine the corresponding time-domain signal ($x(t)$)\n",
        "\n",
        "1. $X(j\\omega) = u(\\omega) - u(\\omega -2)$\n",
        "2. $X(j\\omega) = \\cos(2\\omega)\\sin \\left(\\frac{\\omega}{2} \\right)$"
      ]
    },
    {
      "cell_type": "code",
      "source": [
        "# each answer and solution are in write-up file"
      ],
      "metadata": {
        "id": "Y5NhVQO1fRMU"
      },
      "execution_count": null,
      "outputs": []
    },
    {
      "cell_type": "markdown",
      "metadata": {
        "id": "J8MjLfhQ9UaR"
      },
      "source": [
        "## Problem 4\n",
        "\n",
        "Proof\n",
        "\n",
        "$\\int_{-\\infty}^{\\infty} {|x(t)|}^2 dt = \\frac{1}{2\\pi} \\int_{-\\infty}^{ \\infty } |X(j\\omega)|^2 d\\omega$"
      ]
    },
    {
      "cell_type": "markdown",
      "metadata": {
        "id": "nLl2dnq0dzL_"
      },
      "source": [
        "## Problem 5\n",
        "\n",
        "\n",
        "\n",
        "Determine a signal $x(t)$ which has its Fourier transform\n",
        "\n",
        "$X(j\\omega) = \\delta(\\omega)-\\delta(\\omega-a_0\\pi)-\\delta(\\omega-a_1)$\n",
        "\n",
        "and the impulse response in time-domain is  $h(t) = u(t) - u(t-2b_0)$\n",
        "\n",
        "\n",
        "\n",
        "1.   Show how to find $x(t)$ and determine whether it is periodic?\n",
        "2.   Show how to find $y(t) = x(t) * h(t) $ and determine whether it is periodic?\n",
        "\n",
        "Verify you results by sketching $x(t)$, $h(t)$, $y(t)$, $X(j\\omega)$, $H(j\\omega)$ and $Y(j\\omega)$. Note that for the complex number, plot only its magnitude.\n",
        "\n",
        "\n",
        "\n",
        "\n",
        "\n",
        "\n",
        "\n",
        "\n",
        "\n",
        "\n"
      ]
    },
    {
      "cell_type": "code",
      "metadata": {
        "id": "6D7lyOtMYc8F"
      },
      "source": [],
      "execution_count": null,
      "outputs": []
    }
  ]
}