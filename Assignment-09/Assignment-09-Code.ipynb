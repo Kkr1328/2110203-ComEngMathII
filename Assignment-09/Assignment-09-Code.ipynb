{
  "nbformat": 4,
  "nbformat_minor": 0,
  "metadata": {
    "colab": {
      "provenance": [],
      "collapsed_sections": [
        "pMqXdYpngMzX",
        "Zxm0sZtKvMei",
        "u7NrahI5q_nN",
        "cuBPgENdq6GI",
        "uBSjTKyqvOuK",
        "NjIN-y36Hzj2",
        "i9OpVCQ_vLvR",
        "o1DRnpiEu7US"
      ]
    },
    "kernelspec": {
      "name": "python3",
      "display_name": "Python 3"
    }
  },
  "cells": [
    {
      "cell_type": "markdown",
      "metadata": {
        "id": "Unizl2CVEfhI"
      },
      "source": [
        "# Attention !!!\n",
        "- Please write or take a screenshot of all answers in the pdf file. You won't be graded if there is no pdf file in the submission.\n",
        "- Only TODO 1, 2, 3, 4, 5, 6, 10, 11 will be graded.\n",
        "- **Extra credit:** 1% of total grade for Com Eng Math 2 for TODO 7, 8, 9 (1/3 each.)"
      ]
    },
    {
      "cell_type": "markdown",
      "metadata": {
        "id": "pMqXdYpngMzX"
      },
      "source": [
        "# Sampling\n",
        "\n",
        "Sampling is a process that is very important for writing simulations. In this section, you will try to sample from some common distributions."
      ]
    },
    {
      "cell_type": "markdown",
      "metadata": {
        "id": "1IDhzu0KVO5t"
      },
      "source": [
        "TODO#1: Write functions that samples from the following distribution\n",
        "1. $\\mathcal{N}(0,1)$\n",
        "2. $Bernoulli(0.3)$\n",
        "3. $B(10, 0.3)$\n",
        "4. $Multinomial(n=10, p=[0.3,0.2,0.5])$\n",
        "5. $U(0,1)$\n",
        "<!-- 6. $T(0,1)$; $T(a,b)$ is defined as a function with a shape of a triangle that pass through point $(a,0)$, $(b,0)$, and $(b, K):\\frac{(b-a)K}{2}=1$. -->\n",
        "6. $T(0,1)$; $T(a,b)$ is defined as a function with a shape of a triangle that pass through point $(a,0)$, $(b,0)$, and $(\\frac{a+b}{2}, K):\\frac{(b-a)K}{2}=1$.\n",
        "\n",
        "Capture screenshot of the histogram for each of the distribution and paste them on the pdf file. The example is shown below.\n",
        "\n",
        "Hint: see scipy.stats for common distributions.\n",
        "[plt.hist](https://matplotlib.org/stable/api/_as_gen/matplotlib.pyplot.hist.html) should be helpful for plotting histograms"
      ]
    },
    {
      "cell_type": "code",
      "metadata": {
        "id": "zU6rYTAnmeTg"
      },
      "source": [
        "import numpy as np\n",
        "import matplotlib.pyplot as plt\n",
        "from scipy.stats import norm, bernoulli, binom, multinomial, uniform, expon, triang\n",
        "\n",
        "\n",
        "def sample_normal(sample_size=1000000, mu=0, std=1):\n",
        "  # TODO#1.1: #\n",
        "  ##\n",
        "  return norm.rvs(loc = mu, scale = std, size = sample_size)\n",
        "\n",
        "\n",
        "def sample_bernoulli(sample_size=1000000, p=0.3):\n",
        "  # TODO#1.2:\n",
        "  ##\n",
        "  return bernoulli.rvs(p = p, size = sample_size)\n",
        "\n",
        "\n",
        "def sample_binomial(sample_size=1000000, n=10, p=0.3):\n",
        "  # TODO#1.3:\n",
        "  ##\n",
        "  return binom.rvs(n = n, p = p, size = sample_size)\n",
        "\n",
        "\n",
        "def sample_multinomial(sample_size=1000000, n=10, p=[0.3, 0.2, 0.5]):\n",
        "  # TODO#1.4:\n",
        "  ##\n",
        "  return multinomial.rvs(n = n, p = p, size = sample_size)\n",
        "\n",
        "\n",
        "def sample_uniform(sample_size=1000000, from_x=0, to_x=1):\n",
        "  # TODO#1.5:\n",
        "  ##\n",
        "  return uniform.rvs(from_x, to_x, size = sample_size)\n",
        "\n",
        "\n",
        "def sample_triangle(sample_size=1000000, a=0, b=1):\n",
        "  # TODO#1.6:\n",
        "  ##\n",
        "  return triang.rvs(b/2, loc = a, size = sample_size)"
      ],
      "execution_count": null,
      "outputs": []
    },
    {
      "cell_type": "code",
      "source": [
        "s = sample_normal()\n",
        "count, bins, ignored = plt.hist(s, 100, density=False)\n",
        "\n",
        "plt.title('Normal distribution')\n",
        "plt.ylabel('Density')\n",
        "plt.xlabel('X')\n",
        "plt.show()"
      ],
      "metadata": {
        "colab": {
          "base_uri": "https://localhost:8080/"
        },
        "id": "ibA9zRVnKRuV",
        "outputId": "d3bbd864-bd4f-4828-aa24-c908d83d1f95"
      },
      "execution_count": null,
      "outputs": [
        {
          "output_type": "display_data",
          "data": {
            "text/plain": [
              "<Figure size 432x288 with 1 Axes>"
            ],
            "image/png": "[encoded data removed]"
          },
          "metadata": {
            "needs_background": "light"
          }
        }
      ]
    },
    {
      "cell_type": "code",
      "source": [
        "s = sample_bernoulli()\n",
        "count, bins, ignored = plt.hist(s, 100, density=False)\n",
        "\n",
        "plt.title('Bernoulli distribution')\n",
        "plt.ylabel('Density')\n",
        "plt.xlabel('X')\n",
        "plt.show()"
      ],
      "metadata": {
        "id": "EAxovD0KUmr6",
        "colab": {
          "base_uri": "https://localhost:8080/"
        },
        "outputId": "09ad1711-53ed-4570-f6dc-0fbd4e5eb16f"
      },
      "execution_count": null,
      "outputs": [
        {
          "output_type": "display_data",
          "data": {
            "text/plain": [
              "<Figure size 432x288 with 1 Axes>"
            ],
            "image/png": "[encoded data removed]"
          },
          "metadata": {
            "needs_background": "light"
          }
        }
      ]
    },
    {
      "cell_type": "code",
      "source": [
        "s = sample_binomial()\n",
        "count, bins, ignored = plt.hist(s, 100, density=False)\n",
        "\n",
        "plt.title('Binomial distribution')\n",
        "plt.ylabel('Density')\n",
        "plt.xlabel('X')\n",
        "plt.show()"
      ],
      "metadata": {
        "colab": {
          "base_uri": "https://localhost:8080/"
        },
        "id": "Wa3jP670UO4s",
        "outputId": "e5596f79-a7c8-4168-de38-c55288fedf13"
      },
      "execution_count": null,
      "outputs": [
        {
          "output_type": "display_data",
          "data": {
            "text/plain": [
              "<Figure size 432x288 with 1 Axes>"
            ],
            "image/png": "[encoded data removed]"
          },
          "metadata": {
            "needs_background": "light"
          }
        }
      ]
    },
    {
      "cell_type": "code",
      "source": [
        "s = sample_multinomial()\n",
        "count, bins, ignored = plt.hist(s, 20, density=False)\n",
        "\n",
        "plt.title('Multinomial distribution')\n",
        "plt.ylabel('Density')\n",
        "plt.xlabel('X')\n",
        "plt.show()"
      ],
      "metadata": {
        "colab": {
          "base_uri": "https://localhost:8080/"
        },
        "id": "0RArfhr-fR7G",
        "outputId": "7ad67966-25a9-46d6-add4-5c71a7073df0"
      },
      "execution_count": null,
      "outputs": [
        {
          "output_type": "display_data",
          "data": {
            "text/plain": [
              "<Figure size 432x288 with 1 Axes>"
            ],
            "image/png": "[encoded data removed]"
          },
          "metadata": {
            "needs_background": "light"
          }
        }
      ]
    },
    {
      "cell_type": "code",
      "source": [
        "s = sample_uniform()\n",
        "count, bins, ignored = plt.hist(s, 100, density=False)\n",
        "\n",
        "plt.title('Uniform distribution')\n",
        "plt.ylabel('Density')\n",
        "plt.xlabel('X')\n",
        "plt.show()"
      ],
      "metadata": {
        "colab": {
          "base_uri": "https://localhost:8080/"
        },
        "id": "AX4RB-cEV1aB",
        "outputId": "2ca6a584-5775-4bd3-a43e-956679c511e7"
      },
      "execution_count": null,
      "outputs": [
        {
          "output_type": "display_data",
          "data": {
            "text/plain": [
              "<Figure size 432x288 with 1 Axes>"
            ],
            "image/png": "[encoded data removed]"
          },
          "metadata": {
            "needs_background": "light"
          }
        }
      ]
    },
    {
      "cell_type": "code",
      "source": [
        "s = sample_triangle()\n",
        "count, bins, ignored = plt.hist(s, 100, density=False)\n",
        "\n",
        "plt.title('Triangle distribution')\n",
        "plt.ylabel('Density')\n",
        "plt.xlabel('X')\n",
        "plt.show()"
      ],
      "metadata": {
        "colab": {
          "base_uri": "https://localhost:8080/"
        },
        "id": "O1NBGTHQpmQA",
        "outputId": "6c18a971-77eb-4c02-9942-c445b70e2245"
      },
      "execution_count": null,
      "outputs": [
        {
          "output_type": "display_data",
          "data": {
            "text/plain": [
              "<Figure size 432x288 with 1 Axes>"
            ],
            "image/png": "[encoded data removed]"
          },
          "metadata": {
            "needs_background": "light"
          }
        }
      ]
    },
    {
      "cell_type": "markdown",
      "metadata": {
        "id": "Zxm0sZtKvMei"
      },
      "source": [
        "# Law of large number"
      ]
    },
    {
      "cell_type": "markdown",
      "metadata": {
        "id": "u7NrahI5q_nN"
      },
      "source": [
        "### Law of large number"
      ]
    },
    {
      "cell_type": "markdown",
      "metadata": {
        "id": "76634yTWBz65"
      },
      "source": [
        "**TODO#2:** Using a sampling function from TODO#1.1, Plot the graph that shows the relation between an empirical mean and sampling size from 1 up to 10000.\n",
        "What does the graph imply about the difference between the empirical mean and the theoritical mean?"
      ]
    },
    {
      "cell_type": "code",
      "source": [
        "sampling_size = np.arange(0, 10000)\n",
        "empirical_mean = [np.mean(sample_normal(s, 0, 1)) for s in sampling_size]\n",
        "theoritical_mean = [0 for s in sampling_size]\n",
        "plt.plot(sampling_size, empirical_mean, label = \"Empirical Mean\")\n",
        "plt.plot(sampling_size, theoritical_mean, color = 'r', label = \"Theoritical Mean\")\n",
        "plt.title(\"Empirical Mean VS Theoritical Mean\")\n",
        "plt.ylabel(\"Mean\")\n",
        "plt.xlabel(\"Sampling Size\")\n",
        "plt.legend()"
      ],
      "metadata": {
        "id": "vPn5pygwqQDJ",
        "colab": {
          "base_uri": "https://localhost:8080/",
          "height": 382
        },
        "outputId": "a0106837-3c02-4d6a-b337-879620b0fb70"
      },
      "execution_count": null,
      "outputs": [
        {
          "output_type": "stream",
          "name": "stderr",
          "text": [
            "/usr/local/lib/python3.7/dist-packages/numpy/core/fromnumeric.py:3441: RuntimeWarning: Mean of empty slice.\n",
            "  out=out, **kwargs)\n",
            "/usr/local/lib/python3.7/dist-packages/numpy/core/_methods.py:189: RuntimeWarning: invalid value encountered in double_scalars\n",
            "  ret = ret.dtype.type(ret / rcount)\n"
          ]
        },
        {
          "output_type": "execute_result",
          "data": {
            "text/plain": [
              "<matplotlib.legend.Legend at 0x7f044d3440d0>"
            ]
          },
          "metadata": {},
          "execution_count": 42
        },
        {
          "output_type": "display_data",
          "data": {
            "text/plain": [
              "<Figure size 432x288 with 1 Axes>"
            ],
            "image/png": "[encoded data removed]"
          },
          "metadata": {
            "needs_background": "light"
          }
        }
      ]
    },
    {
      "cell_type": "markdown",
      "metadata": {
        "id": "cuBPgENdq6GI"
      },
      "source": [
        "### Law of large number for histogram"
      ]
    },
    {
      "cell_type": "markdown",
      "metadata": {
        "id": "au_DmcJ9O8Zu"
      },
      "source": [
        "The histogram is used to approximate the PDF of an unknown distribution.\n",
        "The bin in the histogram represents the frequency of the event happening inside the bin range.\n",
        "\n",
        "**TODO#3:** Given a fix bin number of 40. Plot the histogram of the data sampling from the function, `sample_normal(n, 0, 1)`, for different sizes of sample: 500, 1k, 5k and 10k.\n",
        "Compare and explain the relation between the approximation given by the histogram and the true PDF for each of the sample size."
      ]
    },
    {
      "cell_type": "code",
      "source": [
        "bin_num = 40\n",
        "s500 = sample_normal(sample_size = 500, mu=0, std=1)\n",
        "count, bins, ignored = plt.hist(s500, bin_num, density=True)\n",
        "\n",
        "x = np.linspace(norm.ppf(0.01, loc=0, scale=1),norm.ppf(0.99, loc=0, scale=1))\n",
        "plt.plot(x, norm.pdf(x, loc=0, scale=1))\n",
        "\n",
        "plt.title('Normal distribution with 500 samples')\n",
        "plt.ylabel('Density')\n",
        "plt.xlabel('X')\n",
        "plt.show()"
      ],
      "metadata": {
        "id": "Tx7cCF0jqQoL",
        "colab": {
          "base_uri": "https://localhost:8080/",
          "height": 295
        },
        "outputId": "ebbb9a2c-e8c7-4f4f-f67e-b476f11a5b15"
      },
      "execution_count": null,
      "outputs": [
        {
          "output_type": "display_data",
          "data": {
            "text/plain": [
              "<Figure size 432x288 with 1 Axes>"
            ],
            "image/png": "[encoded data removed]"
          },
          "metadata": {
            "needs_background": "light"
          }
        }
      ]
    },
    {
      "cell_type": "code",
      "source": [
        "s1k = sample_normal(sample_size = 1000)\n",
        "count, bins, ignored = plt.hist(s1k, bin_num, density=True)\n",
        "\n",
        "x = np.linspace(norm.ppf(0.01, loc=0, scale=1),norm.ppf(0.99, loc=0, scale=1))\n",
        "plt.plot(x, norm.pdf(x, loc=0, scale=1))\n",
        "\n",
        "plt.title('Normal distribution with 1000 samples')\n",
        "plt.ylabel('Density')\n",
        "plt.xlabel('X')\n",
        "plt.show()"
      ],
      "metadata": {
        "colab": {
          "base_uri": "https://localhost:8080/",
          "height": 295
        },
        "id": "wCSF_J76YXEQ",
        "outputId": "18364bb6-fff5-4694-e331-a151a8cfc27e"
      },
      "execution_count": null,
      "outputs": [
        {
          "output_type": "display_data",
          "data": {
            "text/plain": [
              "<Figure size 432x288 with 1 Axes>"
            ],
            "image/png": "[encoded data removed]"
          },
          "metadata": {
            "needs_background": "light"
          }
        }
      ]
    },
    {
      "cell_type": "code",
      "source": [
        "s5k = sample_normal(sample_size = 5000)\n",
        "count, bins, ignored = plt.hist(s5k, bin_num, density=True)\n",
        "\n",
        "x = np.linspace(norm.ppf(0.01, loc=0, scale=1),norm.ppf(0.99, loc=0, scale=1))\n",
        "plt.plot(bins, norm.pdf(bins, loc=0, scale=1))\n",
        "\n",
        "plt.title('Normal distribution with 5000 samples')\n",
        "plt.ylabel('Density')\n",
        "plt.xlabel('X')\n",
        "plt.show()"
      ],
      "metadata": {
        "colab": {
          "base_uri": "https://localhost:8080/",
          "height": 295
        },
        "id": "FeS0fdffYXJI",
        "outputId": "69cc6ee5-b70d-4302-a887-02f2bb846a1e"
      },
      "execution_count": null,
      "outputs": [
        {
          "output_type": "display_data",
          "data": {
            "text/plain": [
              "<Figure size 432x288 with 1 Axes>"
            ],
            "image/png": "[encoded data removed]"
          },
          "metadata": {
            "needs_background": "light"
          }
        }
      ]
    },
    {
      "cell_type": "code",
      "source": [
        "s10k = sample_normal(sample_size = 10000)\n",
        "count, bins, ignored = plt.hist(s10k, bin_num, density=True)\n",
        "\n",
        "\n",
        "x = np.linspace(norm.ppf(0.01, loc=0, scale=1),norm.ppf(0.99, loc=0, scale=1), 100)\n",
        "plt.plot(x, norm.pdf(x, loc=0, scale=1))\n",
        "\n",
        "\n",
        "plt.title('Normal distribution with 10000 samples')\n",
        "plt.ylabel('Density')\n",
        "plt.xlabel('X')\n",
        "plt.show()"
      ],
      "metadata": {
        "colab": {
          "base_uri": "https://localhost:8080/",
          "height": 295
        },
        "id": "Cjptopo-YXPA",
        "outputId": "7cffd8df-3cc1-498d-a615-9a4cc824510d"
      },
      "execution_count": null,
      "outputs": [
        {
          "output_type": "display_data",
          "data": {
            "text/plain": [
              "<Figure size 432x288 with 1 Axes>"
            ],
            "image/png": "[encoded data removed]"
          },
          "metadata": {
            "needs_background": "light"
          }
        }
      ]
    },
    {
      "cell_type": "markdown",
      "metadata": {
        "id": "uBSjTKyqvOuK"
      },
      "source": [
        "## Central limit theorem"
      ]
    },
    {
      "cell_type": "markdown",
      "metadata": {
        "id": "E7YV2It_EM_m"
      },
      "source": [
        "In this part we will use the Central Limit Theorem to approximate the true probabity of getting more than 40 heads when an unfair coin, with the probability 0.3 of being head, is tossed 100 times.\n",
        "\n",
        "\n",
        "**TODO#4:** Simulate multiple coin tosses to construct a histrogram from the outcomes. Plot the histogram. Hint: x-axis should represents the number of heads when the coin is tossed 100 times. Does this histogram looks like a normal distribution?"
      ]
    },
    {
      "cell_type": "code",
      "source": [
        "s = sample_binomial(sample_size=100000, n=100, p=0.3)\n",
        "count, bins, ignored = plt.hist(s, 100, density=False)\n",
        "\n",
        "plt.title('Binomial distribution')\n",
        "plt.ylabel('Density')\n",
        "plt.xlabel('Number of Heads')\n",
        "plt.show()"
      ],
      "metadata": {
        "colab": {
          "base_uri": "https://localhost:8080/",
          "height": 295
        },
        "id": "UqL16-gD24cA",
        "outputId": "e507ada0-422f-46ca-c2c7-b340b8c1f063"
      },
      "execution_count": null,
      "outputs": [
        {
          "output_type": "display_data",
          "data": {
            "text/plain": [
              "<Figure size 432x288 with 1 Axes>"
            ],
            "image/png": "[encoded data removed]"
          },
          "metadata": {
            "needs_background": "light"
          }
        }
      ]
    },
    {
      "cell_type": "markdown",
      "metadata": {
        "id": "uuziwG81nfe9"
      },
      "source": [
        "**TODO#5:** Use CLT to find the probability of getting more than 40 heads.\n",
        "\n",
        "**TODO#6:** Compare and find the difference between CLT's approximation and the actual probability using the binomial distribution."
      ]
    },
    {
      "cell_type": "code",
      "source": [
        "# TODO#5\n",
        "n = 100\n",
        "p = 0.3\n",
        "\n",
        "z = (40 - binom.mean(n, p, loc=0))/binom.std(n, p, loc=0)\n",
        "probability = 1-norm.cdf(z)\n",
        "print(probability)"
      ],
      "metadata": {
        "colab": {
          "base_uri": "https://localhost:8080/"
        },
        "id": "nfqtDMhn8rR0",
        "outputId": "495a5d6b-4434-4935-81f9-e57cae4139fb"
      },
      "execution_count": null,
      "outputs": [
        {
          "output_type": "stream",
          "name": "stdout",
          "text": [
            "0.014548165870626129\n"
          ]
        }
      ]
    },
    {
      "cell_type": "code",
      "source": [
        "# TODO#6\n",
        "count = 0\n",
        "for c in s:\n",
        "  if c >= 41:\n",
        "    count += 1\n",
        "print(count/len(s))\n",
        "diff = abs(probability-count/len(s))\n",
        "print(diff)"
      ],
      "metadata": {
        "colab": {
          "base_uri": "https://localhost:8080/"
        },
        "id": "JCjBEcyu24-c",
        "outputId": "f9059cae-8d4a-4dcf-e69c-eccee27404ef"
      },
      "execution_count": null,
      "outputs": [
        {
          "output_type": "stream",
          "name": "stdout",
          "text": [
            "0.01235\n",
            "0.0021981658706261287\n"
          ]
        }
      ]
    },
    {
      "cell_type": "markdown",
      "metadata": {
        "id": "NjIN-y36Hzj2"
      },
      "source": [
        "# Algebra of Random Variables"
      ]
    },
    {
      "cell_type": "markdown",
      "metadata": {
        "id": "3Ff4_Pi9XXnP"
      },
      "source": [
        "Given an independent random variable $X$ and $Y$, such that $X \\sim F$ and $Y \\sim U(3,5)$. The summation of those two is written as $Z = X + Y$ and the PDF of $F$ is defined below.\n",
        "$$\n",
        "F(X) =\n",
        "\\begin{cases}\n",
        "0.1, & -2<=X<=0\\\\\n",
        "0.4, & 0<X<=2 \\\\\n",
        "\\end{cases}\n",
        "$$\n",
        "**TODO#7:** Find $P( 3 < Z < 5 )$."
      ]
    },
    {
      "cell_type": "code",
      "source": [
        "import scipy.integrate as integrate\n",
        "\n",
        "delta = 0.001\n",
        "\n",
        "tx = np.arange(-3, 3, delta)\n",
        "X = 0.1*np.heaviside(tx+2, 1) + 0.3*np.heaviside(tx, 1) - 0.4*np.heaviside(tx-2, 1)\n",
        "\n",
        "ty = np.arange(2, 6, delta)\n",
        "Y = (np.heaviside(ty-3, 1) - np.heaviside(ty-5, 1))/(5-3)\n",
        "\n",
        "# have to find p(z) = p(x+y) = p(x)*p(y)\n",
        "tz = np.arange(-1, 9-delta, delta)\n",
        "Z = np.convolve(X, Y)*delta\n",
        "\n",
        "result_start = 0\n",
        "result_start_index = (result_start+1)*1000\n",
        "result_stop = 8\n",
        "result_stop_index = (result_stop+1)*1000\n",
        "result = round(np.sum(Z[result_start_index:result_stop_index+1])*delta, 3)\n",
        "\n",
        "partial_start = 3\n",
        "partial_start_index = (partial_start+1)*1000\n",
        "partial_stop = 5\n",
        "partial_stop_index = (partial_stop+1)*1000\n",
        "partial = round(np.sum(Z[partial_start_index:partial_stop_index+1])*delta, 3)\n",
        "\n",
        "possibility = partial/result\n",
        "print(possibility)"
      ],
      "metadata": {
        "colab": {
          "base_uri": "https://localhost:8080/"
        },
        "id": "-HM4OfhQsdlo",
        "outputId": "855f7161-fdaa-46ae-c80f-c09ba3a063eb"
      },
      "execution_count": null,
      "outputs": [
        {
          "output_type": "stream",
          "name": "stdout",
          "text": [
            "0.5\n"
          ]
        }
      ]
    },
    {
      "cell_type": "markdown",
      "metadata": {
        "id": "i9OpVCQ_vLvR"
      },
      "source": [
        "# Correlation"
      ]
    },
    {
      "cell_type": "markdown",
      "metadata": {
        "id": "JuwXaTlQkzvd"
      },
      "source": [
        "The correlation captures the linear relationshi between two sets of random variables. The higher magnitude of the correlation indicates a stronger relationship.\n",
        "\n",
        "\n",
        "**TODO#8:** Find the correlation of $X$ and $Y = X + A$, given that $X \\sim U(-1,1)$ and\n",
        "1. $A = 10$\n",
        "2. $A \\sim U(-1,1)$\n",
        "3. $A \\sim U(-10,10)$\n",
        "4. $A \\sim U(-100,100)$\n",
        "\n",
        "\n",
        "**TODO#9:** From the results in TODO#8, answer following questions\n",
        "1. Does the correlation decrease as we increase the randomness of A ?\n",
        "2. Explain the result when we change from $A \\sim U(-10,10)$ to $A \\sim U(9090,10010)$. Hint: Compare the result with $A$ and $A + 10000: A \\sim U(-10,10) $"
      ]
    },
    {
      "cell_type": "code",
      "source": [
        "# TODO#8\n",
        "X = sample_uniform(sample_size=100000, from_x=-1, to_x=1)\n",
        "\n",
        "# 8.1\n",
        "A1 = 10\n",
        "Y1 = X + A1\n",
        "print(\"correlation of  X  and  Y1 : \", np.corrcoef(X, Y1)[0][1])\n",
        "\n",
        "# 8.2\n",
        "A2 = sample_uniform(sample_size=100000, from_x=-1, to_x=1)\n",
        "Y2 = X + A2\n",
        "print(\"correlation of  X  and  Y2 : \", np.corrcoef(X, Y2)[0][1])\n",
        "\n",
        "# 8.3\n",
        "A3 = sample_uniform(sample_size=100000, from_x=-10, to_x=10)\n",
        "Y3 = X + A3\n",
        "print(\"correlation of  X  and  Y3 : \", np.corrcoef(X, Y3)[0][1])\n",
        "\n",
        "# 8.4\n",
        "A4 = sample_uniform(sample_size=100000, from_x=-100, to_x=100)\n",
        "Y4 = X + A4\n",
        "print(\"correlation of  X  and  Y4 : \", np.corrcoef(X, Y4)[0][1])"
      ],
      "metadata": {
        "colab": {
          "base_uri": "https://localhost:8080/"
        },
        "id": "xi7TgNxUxytL",
        "outputId": "1db9f120-2e01-48be-fc3b-facbeec5a56e"
      },
      "execution_count": null,
      "outputs": [
        {
          "output_type": "stream",
          "name": "stdout",
          "text": [
            "correlation of  X  and  Y1 :  0.9999999999999998\n",
            "correlation of  X  and  Y2 :  0.7066700835728315\n",
            "correlation of  X  and  Y3 :  0.10031037591820145\n",
            "correlation of  X  and  Y4 :  0.006530791298734063\n"
          ]
        }
      ]
    },
    {
      "cell_type": "code",
      "source": [
        "# TODO#9\n",
        "A5 = A3+10000\n",
        "Y5 = X + A5\n",
        "print(\"correlation of  X  and  Y3 : \", np.corrcoef(X, Y3)[0][1])\n",
        "print(\"correlation of  X  and  Y5 : \", np.corrcoef(X, Y5)[0][1])"
      ],
      "metadata": {
        "id": "KG1R2TpiHuSU",
        "colab": {
          "base_uri": "https://localhost:8080/"
        },
        "outputId": "6510ac8f-a26b-4acb-da73-7e14bbb8f5e9"
      },
      "execution_count": null,
      "outputs": [
        {
          "output_type": "stream",
          "name": "stdout",
          "text": [
            "correlation of  X  and  Y3 :  0.10031037591820145\n",
            "correlation of  X  and  Y5 :  0.1003103759182018\n"
          ]
        }
      ]
    },
    {
      "cell_type": "markdown",
      "metadata": {
        "id": "o1DRnpiEu7US"
      },
      "source": [
        "# Hamtaro and his cloud storage empire.\n",
        "\n"
      ]
    },
    {
      "cell_type": "markdown",
      "metadata": {
        "id": "IBaF48SEIO9X"
      },
      "source": [
        "After the success in the manufacturing business. Hamtaro wants to expand his business into a new sector.\n",
        "Since cloud computing is currently booming, he decides to enter into the cloud storage business.\n",
        "\n",
        "The storage disk that Hamtaro uses can operate only in the temperature of $[0,30]$ degree Celcius. The disk has the prabability of a read failure $P(Fail|t) = \\frac{0.97}{2250}(t-15)^2+0.001$ where $t$ is the operating temperature.\n",
        "<!-- Hamtaro's disks has a special architecture that can be  simultaneously read by infinite requests at the same time. However, a failure of one request will cause all of its parallels to fail. -->\n",
        "\n",
        "Since Hamtoro doesn't want any failures in his service, he decides to buy a super luxury air-conditioning system to control the temperature in his data warehouse. Even if the air conditioner is extremely expensive, the room temperature is still not stable. When Hamtaro tries to set the tempurature to $\\mu$, the actual temperature is random and can be modeled by $t\\sim U(\\mu-1,\\mu+1)$.\n",
        "\n",
        "**TODO#10:** Answer the following questions.\n",
        "1. What is the temperature that Hamtaro should set the air conditioner to? Justify your answer.\n",
        "2. What is the probability of failure at the temperature used in part 1?\n",
        "<!-- 3. If Hamtaro want to handle 10k concurrent requests, what is the minimum disks should Hamtoro has to make 99.99% of disk availability and how should he split the workloads? Hamtaro connects the all the disks in parallel. The read request will fail if all disks fail to be read at the same time. -->\n",
        "3. What is the minimum number of disks that Hamtoro has to use to make sure that the probability of having more than 1 failure in 10k requests is less than 0.01\\%? Hamtaro connects the all the disks in parallel. The read request will fail if all disks fail to at the same time.\n",
        "4. **Extra** The temperature is now modeled by $t\\sim \\mathcal{N}(\\mu,9)$ instead of $t\\sim U(\\mu-1,\\mu+1)$. Repeat question 1-3.\n",
        "\n",
        "**Hint:** `scipy.integrate.quad` can help you do integration."
      ]
    },
    {
      "cell_type": "code",
      "source": [
        "# TODO#10\n",
        "# answers are in pdf file"
      ],
      "metadata": {
        "id": "qJB_9RWWpXXq"
      },
      "execution_count": null,
      "outputs": []
    },
    {
      "cell_type": "markdown",
      "metadata": {
        "id": "YWQenJlPnGIN"
      },
      "source": [
        "# Moontaro\n",
        "![picture](https://i.redd.it/mcveltqx2j071.png)\n",
        "\n",
        "Recently, cryptocurrency investment has become extremely popular due to its extraordinarily high rates of return. Though many people consider it a risky investment, Hamtaro does not want to miss this opportunity and start gathering information about these coins. His research suggests that four coins, namely $a$, $b$, $c$, and $d$, have a promising future to go to the moon.\n",
        "\n",
        "\n",
        "Hamtaro wants to run simulations to validate his chances. As the value of the coins is non-deterministic, he models it sequentially based on their historical values (a.k.a. autoregressive model). The price of coin $i$ at day $t$ is formulated as\n",
        "\n",
        "$p_{i,t} = p_{i,t-1} \\times r_{i,t}$, where $i \\in \\{a, b, c, d\\}$, and  $p_{i, 0} = 10$.\n",
        "\n",
        "The rates $r_{i,t}$, are drawn from a multivariant guassian distribution $\\mathcal{N}(\\mathbf{\\mu}, \\mathbf{\\Sigma})$, where $\\mu = [1.003, 1.002, 1.004, 1.004]^T$ and $\\mathbf{\\Sigma}$ as given below:\n",
        "\n",
        "$\\mathbf{\\Sigma}$ | a | b | c | d\n",
        "--- | --- | --- | --- |---\n",
        "a |  10 x 10$^{-3}$ | 0 | 4 x 10$^{-3}$ | 5 x 10$^{-3}$\n",
        "b |  0  | 3 x 10$^{-3}$ | 0 | 0\n",
        "c |  4 x 10$^{-3}$  | 0 | 12 x 10$^{-3}$| 2 x 10$^{-3}$\n",
        "d |  5 x 10$^{-3}$  | 0 | 2 x 10$^{-3}$ | 15 x 10$^{-3}$\n",
        "\n",
        "\n",
        "<!-- 1. Are $p_{a,t}$ and $p_{b,t}$ independent ? Why ?\n",
        "2. Are $p_{a,t}$ and $p_{c,t}$ independent ? Why ?\n",
        "3. Are $p_{a,t}$ and $p_{d,t}$ independent ? Why ? -->\n",
        "\n",
        "**TODO11:**\n",
        "1. Which pairs of coins are independent? Why?\n",
        "2. Given the following definitions:\n",
        "  - <b>Return</b> :  a coin price at day $T$ minus the price at day 0, i.e., the return of coin $i$ at day $T = p_{i,T} - p_{i, 0}$.\n",
        "  - <b>Expected return</b> : the average return from 10000 distinct simulated end prices.\n",
        "  \n",
        "  Simulate the expected return for each coin if Hamtaro wants to sell his coins 30 and 180 days after buying $(T \\in \\{30, 180\\})$.\n",
        "  hint: you should write reusable functions to make your life easier.\n",
        "3. Which coin has the highest probability of having profit (end price is higher than start price)? Compare the variance of the return with other coins.\n",
        "4. How can the expected return be positive while having around 50\\% chance of profitability?\n",
        "\n",
        "After simulating the price of individual coins, Hamtaro now proposes seven investment strategies (portfolio) to maximize the profit. The detail of each strategy is shown in the table below.  \n",
        "\n",
        "Strategy | Buy $a$ | Buy $b$ | Buy $c$ | Buy $d$ | Expected\\[return\\] | Variance\\[return\\] | Probability of having profit\n",
        "---| --- |--- |--- | ---| --- | --- | ---\n",
        "1  | 100% | 0%   | 0%  |    0%|  |  |\n",
        "2  | 0%   | 100% | 0%  |    0%|  |  |\n",
        "3  | 0%   | 0%   | 100%|    0%|  |  |\n",
        "4  | 0%   | 0%   |   0%|  100%|  |  |\n",
        "5  | 50%  | 50%  | 0%  |    0%|  |  |\n",
        "6  | 50%  | 0%   | 50% |    0%|  |  |\n",
        "7  | 50%  | 0%   |  0% |   50%|  |  |\n",
        "\n",
        "5. Fill the empty values in the table (both $T = 30, 180$).\n",
        "6. Which strategy yields the highest return?\n",
        "7. Which strategy is the safest one?\n",
        "8. Compare the variances between the stategy 6 and 7. What happens, and why is this the case? **Hint:** Consider cov($r_a$, $r_c$) and cov($r_a$, $r_d$).\n",
        "9. From the problems above, come up with a general practice for good investment? Please also state your reasoning. You can include additional simulations to support the argument."
      ]
    },
    {
      "cell_type": "code",
      "source": [
        "from scipy.stats import multivariate_normal\n",
        "miu = [1.003,1.002,1.004,1.004]\n",
        "cov_matrix = [[10*10**(-3),   0,          4*10**(-3),   5*10**(-3)],\n",
        "              [0,             3*10**(-3), 0,            0],\n",
        "              [4*10**(-3),    0,          12*10**(-3),  2*10**(-3)],\n",
        "              [5*10**(-3),    0,          2*10**(-3),   15*10**(-3)]]\n",
        "day0 = [10, 10, 10, 10]"
      ],
      "metadata": {
        "id": "zUd-ngN_lPiJ"
      },
      "execution_count": null,
      "outputs": []
    },
    {
      "cell_type": "code",
      "source": [
        "# TODO#11.2\n",
        "def expected_return(n):\n",
        "  sampling_size = 10000\n",
        "  expected_value = [0, 0, 0, 0]\n",
        "  for i in range(sampling_size): # simulate 10000 returns\n",
        "    return_value = day0\n",
        "    rits = multivariate_normal.rvs(mean=miu, cov=cov_matrix, size = n)\n",
        "    rits_product = np.prod(rits, axis=0)\n",
        "    return_value *= rits_product\n",
        "    expected_value += (return_value-day0)/sampling_size\n",
        "  return expected_value\n",
        "\n",
        "result_30days = expected_return(30)\n",
        "print(\"Expected return of coin a after 30 days : \", result_30days[0])\n",
        "print(\"Expected return of coin b after 30 days : \", result_30days[1])\n",
        "print(\"Expected return of coin c after 30 days : \", result_30days[2])\n",
        "print(\"Expected return of coin d after 30 days : \", result_30days[3])\n",
        "print()\n",
        "result_180days = expected_return(180)\n",
        "print(\"Expected return of coin a after 180 days : \", result_180days[0])\n",
        "print(\"Expected return of coin b after 180 days : \", result_180days[1])\n",
        "print(\"Expected return of coin c after 180 days : \", result_180days[2])\n",
        "print(\"Expected return of coin d after 180 days : \", result_180days[3])"
      ],
      "metadata": {
        "colab": {
          "base_uri": "https://localhost:8080/"
        },
        "id": "NwRH2sNTtSrA",
        "outputId": "6b61b040-9be6-403e-a119-4863444bc3a7"
      },
      "execution_count": null,
      "outputs": [
        {
          "output_type": "stream",
          "name": "stdout",
          "text": [
            "Expected return of coin a after 30 days :  0.9181916176900436\n",
            "Expected return of coin b after 30 days :  0.6321683613423271\n",
            "Expected return of coin c after 30 days :  1.293898138865285\n",
            "Expected return of coin d after 30 days :  1.3555383458431087\n",
            "\n",
            "Expected return of coin a after 180 days :  6.561157161892945\n",
            "Expected return of coin b after 180 days :  4.464782919693632\n",
            "Expected return of coin c after 180 days :  10.818915439930684\n",
            "Expected return of coin d after 180 days :  9.401930978218006\n"
          ]
        }
      ]
    },
    {
      "cell_type": "code",
      "source": [
        "# TODO#11.3\n",
        "def profit_probability(n):\n",
        "  sampling_size = 10000\n",
        "  count_profit = np.array([0, 0, 0, 0])\n",
        "  for i in range(sampling_size): # simulate 10000 returns\n",
        "    rits = multivariate_normal.rvs(mean=miu, cov=cov_matrix, size = n)\n",
        "    rits_product = np.prod(rits, axis=0)\n",
        "    for j in range(4):\n",
        "      if rits_product[j] > 1:\n",
        "        count_profit[j] += 1\n",
        "  return count_profit/sampling_size\n",
        "\n",
        "days = 100\n",
        "profit_prob = profit_probability(days)\n",
        "print(\"a :\", profit_prob[0])\n",
        "print(\"b :\", profit_prob[1])\n",
        "print(\"c :\", profit_prob[2])\n",
        "print(\"d :\", profit_prob[3])"
      ],
      "metadata": {
        "colab": {
          "base_uri": "https://localhost:8080/"
        },
        "id": "oW_7nNXNF92t",
        "outputId": "35557f8a-5312-42a4-f677-871d526fba6f"
      },
      "execution_count": null,
      "outputs": [
        {
          "output_type": "stream",
          "name": "stdout",
          "text": [
            "a : 0.4179\n",
            "b : 0.5447\n",
            "c : 0.4348\n",
            "d : 0.3838\n"
          ]
        }
      ]
    },
    {
      "cell_type": "code",
      "source": [
        "# TODO#11.3 (cont.)\n",
        "def variance(n):\n",
        "  sampling_size = 10000\n",
        "  expected_value = [0, 0, 0, 0]\n",
        "  sqrt_expected_value = [0, 0, 0, 0]\n",
        "  for i in range(sampling_size): # simulate 10000 returns\n",
        "    return_value = day0\n",
        "    rits = multivariate_normal.rvs(mean=miu, cov=cov_matrix, size = n)\n",
        "    rits_product = np.prod(rits, axis=0)\n",
        "    return_value *= rits_product\n",
        "    expected_value += (return_value-day0)/sampling_size\n",
        "    sqrt_expected_value += (return_value-day0)**2/sampling_size\n",
        "  return sqrt_expected_value-expected_value**2\n",
        "\n",
        "var = variance(days)\n",
        "print(\"a :\", var[0])\n",
        "print(\"b :\", var[1])\n",
        "print(\"c :\", var[2])\n",
        "print(\"d :\", var[3])"
      ],
      "metadata": {
        "colab": {
          "base_uri": "https://localhost:8080/"
        },
        "id": "hy2l8z_bIAOw",
        "outputId": "3fbab0c7-e49d-4b6b-a658-c634b0d7539f"
      },
      "execution_count": null,
      "outputs": [
        {
          "output_type": "stream",
          "name": "stdout",
          "text": [
            "a : 307.4776729433312\n",
            "b : 48.97578082427312\n",
            "c : 475.63944622465857\n",
            "d : 751.5395229509239\n"
          ]
        }
      ]
    },
    {
      "cell_type": "code",
      "source": [
        "# TODO#11.4\n",
        "# answer is in pdf file\n",
        "pass"
      ],
      "metadata": {
        "id": "OTEggXKIQs8l"
      },
      "execution_count": null,
      "outputs": []
    },
    {
      "cell_type": "code",
      "source": [
        "# TODO#11.5\n",
        "ExpectedReturn30 = expected_return(30)\n",
        "ExpectedReturn180 = expected_return(180)\n",
        "VarianceReturn30 = variance(30)\n",
        "VarianceReturn180 = variance(180)\n",
        "ProbabilityProfit30 = profit_probability(30)\n",
        "ProbabilityProfit180 = profit_probability(180)\n",
        "\n",
        "strategy = [[1, 0, 0, 0],\n",
        "            [0, 1, 0, 0],\n",
        "            [0, 0, 1, 0],\n",
        "            [0, 0, 0, 1],\n",
        "            [0.5, 0.5, 0, 0],\n",
        "            [0.5, 0, 0.5, 0],\n",
        "            [0.5, 0, 0, 0.5],]\n",
        "\n",
        "for i in range(len(strategy)):\n",
        "  print(\"STRATEGY #\", i+1)\n",
        "  print(\"T = 30 :\")\n",
        "  print(\"\\tExpected[return] :\", round(np.sum(ExpectedReturn30*strategy[i]), 3))\n",
        "  print(\"\\tVariance[return] :\", round(np.sum(VarianceReturn30*strategy[i]), 3))\n",
        "  print(\"\\tProbability of having profit :\", round(np.sum(ProbabilityProfit30*strategy[i]), 3))\n",
        "  print(\"T = 180 :\")\n",
        "  print(\"\\tExpected[return] :\", round(np.sum(ExpectedReturn180*strategy[i]), 3))\n",
        "  print(\"\\tVariance[return] :\", round(np.sum(VarianceReturn180*strategy[i]), 3))\n",
        "  print(\"\\tProbability of having profit :\", round(np.sum(ProbabilityProfit180*strategy[i]), 3))\n",
        "  print()"
      ],
      "metadata": {
        "id": "I_4Yr_QCRHRy"
      },
      "execution_count": null,
      "outputs": []
    },
    {
      "cell_type": "code",
      "source": [
        "# TODO#11.6\n",
        "# answer is in pdf file\n",
        "pass"
      ],
      "metadata": {
        "id": "4sOIMu7i_er-"
      },
      "execution_count": null,
      "outputs": []
    },
    {
      "cell_type": "code",
      "source": [
        "# TODO#11.7\n",
        "# answer is in pdf file\n",
        "pass"
      ],
      "metadata": {
        "id": "pszzKRV__gXU"
      },
      "execution_count": null,
      "outputs": []
    },
    {
      "cell_type": "code",
      "source": [
        "# TODO#11.8\n",
        "def cov(n):\n",
        "  sampling_size = 10000\n",
        "  r = [[], [], [], []]\n",
        "  for i in range(sampling_size):\n",
        "    rits = multivariate_normal.rvs(mean=miu, cov=cov_matrix, size = n)\n",
        "    rits_product = np.prod(rits, axis=0)\n",
        "    for j in range(4):\n",
        "      r[j] += [rits_product[j]]\n",
        "  return r\n",
        "\n",
        "coin_name = ['a', 'b', 'c', 'd']\n",
        "coin30 = cov(30)\n",
        "coin180 = cov(180)\n",
        "\n",
        "print(\"T = 30\")\n",
        "for i in range(4):\n",
        "  for j in range(i+1, 4):\n",
        "    print(\"Covariance of\", coin_name[i], \"and\", coin_name[j],\n",
        "          \":\", round(np.cov(coin30[i], coin30[j])[0][1], 6))\n",
        "print(\"\\nT = 180\")\n",
        "for i in range(4):\n",
        "  for j in range(i+1, 4):\n",
        "    print(\"Covariance of\", coin_name[i], \"and\", coin_name[j],\n",
        "          \":\", round(np.cov(coin180[i], coin180[j])[0][1], 6))"
      ],
      "metadata": {
        "colab": {
          "base_uri": "https://localhost:8080/"
        },
        "id": "c03WHuq0_hwL",
        "outputId": "8006b8d7-65ac-453f-d5d8-9c1220eae84c"
      },
      "execution_count": null,
      "outputs": [
        {
          "output_type": "stream",
          "name": "stdout",
          "text": [
            "T = 30\n",
            "Covariance of a and b : -0.000978\n",
            "Covariance of a and c : 0.153294\n",
            "Covariance of a and d : 0.208118\n",
            "Covariance of b and c : -0.004009\n",
            "Covariance of b and d : -0.001292\n",
            "Covariance of c and d : 0.075911\n",
            "\n",
            "T = 180\n",
            "Covariance of a and b : -0.052952\n",
            "Covariance of a and c : 4.453592\n",
            "Covariance of a and d : 7.317359\n",
            "Covariance of b and c : 0.082997\n",
            "Covariance of b and d : 0.023325\n",
            "Covariance of c and d : 2.127712\n"
          ]
        }
      ]
    },
    {
      "cell_type": "code",
      "source": [
        "# TODO#11.9\n",
        "# answer is in pdf file\n",
        "pass"
      ],
      "metadata": {
        "id": "J2ALO_EWotUr"
      },
      "execution_count": null,
      "outputs": []
    }
  ]
}